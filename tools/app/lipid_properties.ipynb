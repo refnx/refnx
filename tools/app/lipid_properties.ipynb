{
 "cells": [
  {
   "cell_type": "code",
   "execution_count": null,
   "metadata": {},
   "outputs": [],
   "source": [
    "import json\n",
    "import periodictable as pt\n",
    "from refnx.reflect._app._lipid_leaflet import Lipid\n",
    "lipids = {}"
   ]
  },
  {
   "cell_type": "code",
   "execution_count": null,
   "metadata": {},
   "outputs": [],
   "source": [
    "name = 'h-DMPC'\n",
    "l = Lipid(name, 'C10H18O8NP', 'C26H54', chemical_name='14:0 PC / 1,2-dimyristoyl-sn-glycero-3-phosphocholine',\n",
    "          references=['DMPC in the fluid phase: J.F. Nagle and S. Tristram-Nagle (2000) Biochim. Biophys. Acta: Rev. Biomembr. 1469: 159-195',\n",
    "                      'DMPC in the gel phase: S. Tristram-Nagle et al. (2002) Biophys. J. 83: 3324-3335'])\n",
    "l.add_condition('fluid30C', 319, 782)\n",
    "l.add_condition('gel10C', 319, 710)\n",
    "lipids[name] = l"
   ]
  },
  {
   "cell_type": "code",
   "execution_count": null,
   "metadata": {},
   "outputs": [],
   "source": [
    "name = 'd54-DMPC'\n",
    "l = Lipid(name, 'C10H18O8NP', 'C26D54', chemical_name='14:0 PC-d54 / 1,2-dimyristoyl-d54-sn-glycero-3-phosphocholine',\n",
    "              references=['DMPC in the fluid phase: J.F. Nagle and S. Tristram-Nagle (2000) Biochim. Biophys. Acta: Rev. Biomembr. 1469: 159-195',\n",
    "                          'DMPC in the gel phase: S. Tristram-Nagle et al. (2002) Biophys. J. 83: 3324-3335'])\n",
    "l.add_condition('fluid30C', 319, 782)\n",
    "l.add_condition('gel10C', 319, 710)\n",
    "lipids[name] = l"
   ]
  },
  {
   "cell_type": "code",
   "execution_count": null,
   "metadata": {},
   "outputs": [],
   "source": [
    "name = 'h-DMPG'\n",
    "l = Lipid(name, 'C8H12O10P1', 'C26H54', chemical_name=\"14:0 PG / 1,2-dimyristoyl-sn-glycero-3-phospho-(1'-rac-glycerol) (sodium salt)\",\n",
    "          head_exchangable=2,\n",
    "          references=['Used fluid phase DMPC for tails volume: J.F. Nagle and S. Tristram-Nagle (2000) Biochim. Biophys. Acta: Rev. Biomembr. 1469: 159-195',\n",
    "                      'Used headgroup volume from DPPG: G. Pabst et al. (2007) Biophys. J. 93: 513-525'])\n",
    "l.add_condition('ambient', 257, 782)\n",
    "lipids[name] = l"
   ]
  },
  {
   "cell_type": "code",
   "execution_count": null,
   "metadata": {},
   "outputs": [],
   "source": [
    "name = 'd54-DMPG'\n",
    "l = Lipid(name, 'C8H12O10P1', 'C26D54', chemical_name='14:0 PG-d54 / 1,2-dimyristoyl-d54-sn-glycero-3-[phospho-rac-(1-glycerol)] (sodium salt)',\n",
    "          head_exchangable=2,\n",
    "          references=['Used fluid phase DMPC for tails volume: J.F. Nagle and S. Tristram-Nagle (2000) Biochim. Biophys. Acta: Rev. Biomembr. 1469: 159-195',\n",
    "                      'Used headgroup volume from DPPG: G. Pabst et al. (2007) Biophys. J. 93: 513-525'])\n",
    "l.add_condition('ambient', 257, 782)\n",
    "lipids[name] = l"
   ]
  },
  {
   "cell_type": "code",
   "execution_count": null,
   "metadata": {},
   "outputs": [],
   "source": [
    "name = 'h-POPC'\n",
    "l = Lipid(name, 'C10H18O8NP', 'C32H64', chemical_name='16:0-18:1 PC / 1-palmitoyl-2-oleoyl-glycero-3-phosphocholine',\n",
    "          references=['S.W. Chiu et al. (1999) Biophys. J. 77: 2462-2469'])\n",
    "l.add_condition('ambient', 319, 944)\n",
    "lipids[name] = l"
   ]
  },
  {
   "cell_type": "code",
   "execution_count": null,
   "metadata": {},
   "outputs": [],
   "source": [
    "name = 'd31-POPC'\n",
    "l = Lipid(name, 'C10H18O8NP', 'C32H33D31', chemical_name='16:0-18:1 PC-d31',\n",
    "          references=['S.W. Chiu et al. (1999) Biophys. J. 77: 2462-2469'])\n",
    "l.add_condition('ambient', 319, 944)\n",
    "lipids[name] = l"
   ]
  },
  {
   "cell_type": "code",
   "execution_count": null,
   "metadata": {},
   "outputs": [],
   "source": [
    "name = 'd9-POPC'\n",
    "l = Lipid(name, 'C10H9D9O8NP', 'C32H64', chemical_name=\"16:0-18:1 PC-d9\",\n",
    "          references=['S.W. Chiu et al. (1999) Biophys. J. 77: 2462-2469'])\n",
    "l.add_condition('ambient', 319, 944)\n",
    "lipids[name] = l"
   ]
  },
  {
   "cell_type": "code",
   "execution_count": null,
   "metadata": {},
   "outputs": [],
   "source": [
    "name = 'h-POPG'\n",
    "l = Lipid(name, 'C8H12O10P', 'C32H64', chemical_name=\"16:0-18:1 PG / 1-palmitoyl-2-oleoyl-sn-glycero-3-phospho-(1'-rac-glycerol) (sodium salt)\",\n",
    "          head_exchangable=2,\n",
    "          references=['For obtaining heads volume: G. Pabst et al. (2007) Biophys. J. 93: 513-525',\n",
    "                      'For obtaining tails volume: S.W. Chiu et al. (1999) Biophys. J. 77: 2462-2469'])\n",
    "l.add_condition('ambient', 257, 944)\n",
    "lipids[name] = l"
   ]
  },
  {
   "cell_type": "code",
   "execution_count": null,
   "metadata": {},
   "outputs": [],
   "source": [
    "name = 'd31-POPG'\n",
    "l = Lipid(name, 'C8H12O10P', 'C32H33D31', chemical_name=\"16:0-d31-18:1 PG / 1-palmitoyl-d31-2-oleoyl-sn-glycero-3-[phospho-rac-(1-glycerol)] (sodium salt)\",\n",
    "          head_exchangable=2,\n",
    "          references=['For obtaining tails volume: S.W. Chiu et al. (1999) Biophys. J. 77: 2462-2469',\n",
    "                      'For obtaining heads volume: G. Pabst et al. (2007) Biophys. J. 93: 513-525 '])\n",
    "l.add_condition('ambient', 257, 944)\n",
    "lipids[name] = l"
   ]
  },
  {
   "cell_type": "code",
   "execution_count": null,
   "metadata": {},
   "outputs": [],
   "source": [
    "name = 'h-POPS'\n",
    "l = Lipid(name, 'C8H11O10NP', 'C32H64', chemical_name=\"16:0-18:1 PS / 1-palmitoyl-2-oleoyl-sn-glycero-3-phospho-L-serine (sodium salt)\",\n",
    "          head_exchangable=1,\n",
    "          references=['For obtaining tails volume: S.W. Chiu et al. (1999) Biophys. J. 77: 2462-2469',\n",
    "                      'For obtaining heads volume: H.I. Petrache et al. (2004) Biophys. J. 86: 1574-1586'])\n",
    "l.add_condition('ambient', 244, 944)\n",
    "lipids[name] = l"
   ]
  },
  {
   "cell_type": "code",
   "execution_count": null,
   "metadata": {},
   "outputs": [],
   "source": [
    "name = 'd31-POPS'\n",
    "l = Lipid(name, 'C8H11O10NP', 'C32H33D31',\n",
    "          head_exchangable=1,\n",
    "          references=['For obtaining tails volume: S.W. Chiu et al. (1999) Biophys. J. 77: 2462-2469',\n",
    "                      'For obtaining heads volume: H.I. Petrache et al. (2004) Biophys. J. 86: 1574-1586'])\n",
    "l.add_condition('ambient', 244, 944)\n",
    "lipids[name] = l"
   ]
  },
  {
   "cell_type": "code",
   "execution_count": null,
   "metadata": {},
   "outputs": [],
   "source": [
    "name = 'h-POPE'\n",
    "l = Lipid(name, 'C7H12O8PN', 'C32H64', chemical_name=\"16:0-18:1 PE / 1-palmitoyl-2-oleoyl-sn-glycero-3-phosphoethanolamine\",\n",
    "          head_exchangable=0,\n",
    "          references=['For obtaining tails volume: S.W. Chiu et al. (1999) Biophys. J. 77: 2462-2469',\n",
    "                      'For obtaining heads volume: J.F. Nagle and S. Tristram-Nagle (2000) Biochim. Biophys. Acta: Rev. Biomembr. 1469: 159-195'])\n",
    "l.add_condition('ambient', 252, 944)\n",
    "lipids[name] = l"
   ]
  },
  {
   "cell_type": "code",
   "execution_count": null,
   "metadata": {},
   "outputs": [],
   "source": [
    "name = 'd31-POPE'\n",
    "l = Lipid(name, 'C7H12O8PN', 'C32H33D31', chemical_name=\"1-palmitoyl-d31-2-oleoyl-sn-glycero-3-phosphoethanolamine\",\n",
    "          head_exchangable=0,\n",
    "          references=['For obtaining tails volume: S.W. Chiu et al. (1999) Biophys. J. 77: 2462-2469',\n",
    "                      'For obtaining heads volume: J.F. Nagle and S. Tristram-Nagle (2000) Biochim. Biophys. Acta: Rev. Biomembr. 1469: 159-195'])\n",
    "l.add_condition('ambient', 252, 944)\n",
    "lipids[name] = l"
   ]
  },
  {
   "cell_type": "code",
   "execution_count": null,
   "metadata": {},
   "outputs": [],
   "source": [
    "name = 'd4-POPE'\n",
    "l = Lipid(name, 'C7H8D4O8PN', 'C32H64',\n",
    "          head_exchangable=0,\n",
    "          references=['For obtaining tails volume: S.W. Chiu et al. (1999) Biophys. J. 77: 2462-2469',\n",
    "                      'For obtaining heads volume: J.F. Nagle and S. Tristram-Nagle (2000) Biochim. Biophys. Acta: Rev. Biomembr. 1469: 159-195'])\n",
    "l.add_condition('ambient', 252, 944)\n",
    "lipids[name] = l"
   ]
  },
  {
   "cell_type": "code",
   "execution_count": null,
   "metadata": {},
   "outputs": [],
   "source": [
    "name = 'h-DPPC'\n",
    "l = Lipid(name, 'C10H18O8NP', 'C30H62', chemical_name=\"16:0 PC / 1,2-dipalmitoyl-sn-glycero-3-phosphocholine\",\n",
    "          head_exchangable=0,\n",
    "          references=['J.F. Nagle and S. Tristram-Nagle (2000) Biochim. Biophys. Acta: Rev. Biomembr. 1469: 159-195'])\n",
    "l.add_condition('gel20C', 319, 825)\n",
    "l.add_condition('fluid50C', 319, 913)\n",
    "lipids[name] = l"
   ]
  },
  {
   "cell_type": "code",
   "execution_count": null,
   "metadata": {},
   "outputs": [],
   "source": [
    "name = 'd62-DPPC'\n",
    "l = Lipid(name, 'C10H18O8NP', 'C30D62', chemical_name=\"16:0 PC-d62 / 1,2-dipalmitoyl-d62-sn-glycero-3-phosphocholine\",\n",
    "          head_exchangable=0,\n",
    "          references=['J.F. Nagle and S. Tristram-Nagle (2000) Biochim. Biophys. Acta: Rev. Biomembr. 1469: 159-195'])\n",
    "l.add_condition('gel20C', 319, 825)\n",
    "l.add_condition('fluid50C', 319, 913)\n",
    "lipids[name] = l"
   ]
  },
  {
   "cell_type": "code",
   "execution_count": null,
   "metadata": {},
   "outputs": [],
   "source": [
    "name = 'TMCL'\n",
    "l = Lipid(name, 'C17H16O17P2', 'C48H108', chemical_name=\"14:0 Cardiolipin / 1',3'-bis[1,2-dimyristoyl-sn-glycero-3-phospho]-glycerol (sodium salt)\",\n",
    "          head_exchangable=1,\n",
    "          references=['A.L. Boscia et al. (2014) Chem. Phys. Lipids 178: 1 - 10.'])\n",
    "l.add_condition('ambient', 506, 1574)\n",
    "lipids[name] = l"
   ]
  },
  {
   "cell_type": "code",
   "execution_count": null,
   "metadata": {},
   "outputs": [],
   "source": [
    "name = 'TOCL'\n",
    "l = Lipid(name, 'C13H16O17P2', 'C68H132', chemical_name=\"18:1 Cardiolipin / 1',3'-bis[1,2-dioleoyl-sn-glycero-3-phospho]-glycerol (sodium salt)\",\n",
    "          head_exchangable=1,\n",
    "          references=['For headgroup volume A.L. Boscia et al. (2014) Chem. Phys. Lipids 178: 1 - 10.',\n",
    "                      'For tail volume: DOPC tail volume x2 from: J.F. Nagle and S. Tristram-Nagle (2000) Biochim. Biophys. Acta: Rev. Biomembr. 1469: 159-195'])\n",
    "l.add_condition('ambient', 506, 1968)\n",
    "lipids[name] = l"
   ]
  },
  {
   "cell_type": "code",
   "execution_count": null,
   "metadata": {},
   "outputs": [],
   "source": [
    "name = 'h-DOPC'\n",
    "l = Lipid(name, 'C10H18O8P1N1', 'C34H66', chemical_name=\"1,2-dioleoyl-sn-glycero-3-phosphocholine\",\n",
    "          head_exchangable=0,\n",
    "          references=['Greenwood et al. Chem Phys Lipids. 2006 September ; 143(1-2): 1–10. doi:10.1016/j.chemphyslip.2006.04.002',\n",
    "                      'Kucerka et al.  J. Membrane Biol. 208, 193 - 202 (2005)',\n",
    "                      'Tristram-Nagle et al, Biophysical Journal Volume 75 August 1998 917–925'])\n",
    "l.add_condition('ambient', 319, 975)\n",
    "lipids[name] = l"
   ]
  },
  {
   "cell_type": "code",
   "execution_count": null,
   "metadata": {},
   "outputs": [],
   "source": [
    "name = 'DOTAP'\n",
    "l = Lipid(name, 'C8H14O4N1', 'C34H66', chemical_name=\"Dioleoyl-3-trimethylammonium propane\",\n",
    "          head_exchangable=0,\n",
    "          references=['Based on DOPC as for DiEther DOPC'])\n",
    "l.add_condition('ambient', 209.3, 975)\n",
    "lipids[name] = l"
   ]
  },
  {
   "cell_type": "code",
   "execution_count": null,
   "metadata": {},
   "outputs": [],
   "source": [
    "name = '18_1 Diether PC'\n",
    "l = Lipid(name, 'C8H18O6N1P1', 'C36H70', chemical_name=\"1,2-di-O-(9Z-octadecenyl)-sn-glycero-3-phosphocholine\",\n",
    "          head_exchangable=0,\n",
    "          references=['Calculations based on DOPC.  Adjustments made to headgroup regions on the basis of MD calculations. No Carbonyl in headgroup.  Therefore add 2 x CH2 to tails, also subtract C=O from HG.',\n",
    "                      'Armen et al.  Biophysical Journal Volume 75 August 1998 734–744',\n",
    "                      ''])\n",
    "l.add_condition('ambient', 291, 1092.2)\n",
    "lipids[name] = l"
   ]
  },
  {
   "cell_type": "code",
   "execution_count": null,
   "metadata": {},
   "outputs": [],
   "source": [
    "with open('lipids.json', 'w') as f:\n",
    "    json.dump([lipids[p].__dict__ for p in lipids], f)"
   ]
  }
 ],
 "metadata": {
  "kernelspec": {
   "display_name": "Python 3",
   "language": "python",
   "name": "python3"
  },
  "language_info": {
   "codemirror_mode": {
    "name": "ipython",
    "version": 3
   },
   "file_extension": ".py",
   "mimetype": "text/x-python",
   "name": "python",
   "nbconvert_exporter": "python",
   "pygments_lexer": "ipython3",
   "version": "3.7.3"
  }
 },
 "nbformat": 4,
 "nbformat_minor": 2
}
