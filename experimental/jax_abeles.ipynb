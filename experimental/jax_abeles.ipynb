{
 "cells": [
  {
   "cell_type": "code",
   "execution_count": null,
   "metadata": {},
   "outputs": [],
   "source": [
    "import numpy as np\n",
    "import os\n",
    "# os.environ['XLA_FLAGS'] = '--xla_dump_to=/tmp/foo'\n",
    "# import jax.numpy as jnp\n",
    "# from jax import grad, jacfwd, jacrev, jit\n",
    "# from jax.config import config\n",
    "# from jax.ops import index, index_add, index_update\n",
    "# config.update(\"jax_enable_x64\", True)\n",
    "from functools import reduce\n",
    "from scipy.optimize._numdiff import approx_derivative\n",
    "import matplotlib.pyplot as plt\n",
    "%load_ext line_profiler\n",
    "\n",
    "TINY = 1e-30\n",
    "q = np.linspace(0.01, 0.5, 1001)\n",
    "w = np.array([[0, 2.07, 0, 0],\n",
    "              [100, 3.47, 0.0001, 3],\n",
    "              [500, -0.5, 0.00001, 3],\n",
    "              [0, 6.36, 0.0, 3]])"
   ]
  },
  {
   "cell_type": "code",
   "execution_count": null,
   "metadata": {},
   "outputs": [],
   "source": [
    "def abeles(layers, q, bkg=0):\n",
    "    qvals = np.asfarray(q)\n",
    "    flatq = qvals.ravel()\n",
    "\n",
    "    nlayers = layers.shape[0] - 2\n",
    "    npnts = flatq.size\n",
    "\n",
    "    kn = np.zeros((npnts, nlayers + 2), np.complex128)\n",
    "    mi00 = np.ones((npnts, nlayers + 1), np.complex128)\n",
    "\n",
    "    sld = np.zeros(nlayers + 2, np.complex128)\n",
    "\n",
    "    # addition of TINY is to ensure the correct branch cut\n",
    "    # in the complex sqrt calculation of kn.\n",
    "    sld[1:] += (\n",
    "        (layers[1:, 1] - layers[0, 1]) + 1j * (np.abs(layers[1:, 2]) + TINY)\n",
    "    ) * 1.0e-6\n",
    "\n",
    "    # kn is a 2D array. Rows are Q points, columns are kn in a layer.\n",
    "    # calculate wavevector in each layer, for each Q point.\n",
    "    kn[:] = np.sqrt(flatq[:, np.newaxis] ** 2.0 / 4.0 - 4.0 * np.pi * sld)\n",
    "\n",
    "    # reflectances for each layer\n",
    "    # rj.shape = (npnts, nlayers + 1)\n",
    "    rj = kn[:, :-1] - kn[:, 1:]\n",
    "    rj /= kn[:, :-1] + kn[:, 1:]\n",
    "    rj *= np.exp(-2.0 * kn[:, :-1] * kn[:, 1:] * layers[1:, 3] ** 2)\n",
    "\n",
    "    # characteristic matrices for each layer\n",
    "    # miNN.shape = (npnts, nlayers + 1)\n",
    "    if nlayers:\n",
    "        mi00[:, 1:] = np.exp(kn[:, 1:-1] * 1j * np.fabs(layers[1:-1, 0]))\n",
    "    mi11 = 1.0 / mi00\n",
    "    mi10 = rj * mi00\n",
    "    mi01 = rj * mi11\n",
    "\n",
    "    # initialise matrix total\n",
    "    mrtot00 = mi00[:, 0]\n",
    "    mrtot01 = mi01[:, 0]\n",
    "    mrtot10 = mi10[:, 0]\n",
    "    mrtot11 = mi11[:, 0]\n",
    "#     return mi00, mi01, mi10, mi11\n",
    "\n",
    "    # propagate characteristic matrices\n",
    "    for idx in range(1, nlayers + 1):\n",
    "        # matrix multiply mrtot by characteristic matrix\n",
    "        p0 = mrtot00 * mi00[:, idx] + mrtot10 * mi01[:, idx]\n",
    "        p1 = mrtot00 * mi10[:, idx] + mrtot10 * mi11[:, idx]\n",
    "        mrtot00 = p0\n",
    "        mrtot10 = p1\n",
    "\n",
    "        p0 = mrtot01 * mi00[:, idx] + mrtot11 * mi01[:, idx]\n",
    "        p1 = mrtot01 * mi10[:, idx] + mrtot11 * mi11[:, idx]\n",
    "\n",
    "        mrtot01 = p0\n",
    "        mrtot11 = p1\n",
    "    \n",
    "#     return mrtot00, mrtot01, mrtot10, mrtot11\n",
    "\n",
    "    r = mrtot01 / mrtot00\n",
    "    reflectivity = r * np.conj(r)\n",
    "    reflectivity += bkg\n",
    "    return np.real(np.reshape(reflectivity, qvals.shape))\n"
   ]
  },
  {
   "cell_type": "code",
   "execution_count": null,
   "metadata": {},
   "outputs": [],
   "source": [
    "def abeles2(layers, q, bkg=0):\n",
    "    qvals = np.asfarray(q)\n",
    "    flatq = qvals.ravel()\n",
    "    q2 = flatq**2 / 4.0\n",
    "\n",
    "    nlayers = layers.shape[0] - 2\n",
    "    npnts = flatq.size\n",
    "\n",
    "    kn = np.zeros((npnts, nlayers + 2), np.complex128)\n",
    "#     mi00 = np.ones((npnts, nlayers + 1), np.complex128)\n",
    "    mi = np.zeros((npnts, nlayers + 1, 2, 2), np.complex128)\n",
    "    mi[:, :, 0, 0] = 1.0\n",
    "\n",
    "    sld = np.zeros(nlayers + 2, np.complex128)\n",
    "\n",
    "    # addition of TINY is to ensure the correct branch cut\n",
    "    # in the complex sqrt calculation of kn.\n",
    "    sld[1:] += (\n",
    "        (layers[1:, 1] - layers[0, 1]) + 1j * (np.abs(layers[1:, 2]) + TINY)\n",
    "    ) * 1.0e-6\n",
    "\n",
    "    # kn is a 2D array. Rows are Q points, columns are kn in a layer.\n",
    "    # calculate wavevector in each layer, for each Q point.\n",
    "    kn[:] = np.sqrt(q2[:, np.newaxis] - 4.0 * np.pi * sld)\n",
    "\n",
    "    # reflectances for each layer\n",
    "    # rj.shape = (npnts, nlayers + 1)\n",
    "    rj = kn[:, :-1] - kn[:, 1:]\n",
    "    rj /= kn[:, :-1] + kn[:, 1:]\n",
    "    rj *= np.exp(-2.0 * kn[:, :-1] * kn[:, 1:] * layers[1:, 3] ** 2)\n",
    "\n",
    "    # characteristic matrices for each layer\n",
    "    # miNN.shape = (npnts, nlayers + 1)\n",
    "    if nlayers:\n",
    "        mi[:, 1:, 0, 0] = np.exp(kn[:, 1:-1] * 1j * np.fabs(layers[1:-1, 0]))\n",
    "    mi[:, :, 1, 1] = 1.0 / mi[:, :, 0, 0]\n",
    "    mi[:, :, 1, 0] = rj * mi[:, :, 0, 0]\n",
    "    mi[:, :, 0, 1] = rj * mi[:, :, 1, 1]\n",
    "\n",
    "#     stk = [np.squeeze(v) for v in np.hsplit(mi, nlayers + 1)]\n",
    "#     mrtot = np.copy(stk[0])\n",
    "#     mrtot = np.copy(mi[:, 0])\n",
    "#     for idx in range(1, nlayers + 1):\n",
    "#         mrtot[:] = np.matmul(mrtot[:], mi[:, idx])\n",
    "\n",
    "#     for sub in stk[1:]:\n",
    "#         mrtot = np.matmul(np.copy(mrtot), sub)\n",
    "#     mrtot = reduce(np.matmul, stk[1:], stk[0])\n",
    "\n",
    "    # initialise matrix total\n",
    "    mrtot00 = mi[:, 0, 0, 0]\n",
    "    mrtot01 = mi[:, 0, 0, 1]\n",
    "    mrtot10 = mi[:, 0, 1, 0]\n",
    "    mrtot11 = mi[:, 0, 1, 1]\n",
    "    \n",
    "#     # propagate characteristic matrices\n",
    "    for idx in range(1, nlayers + 1):\n",
    "        # matrix multiply mrtot by characteristic matrix\n",
    "        p0 = mrtot00 * mi[:, idx, 0, 0] + mrtot10 * mi[:, idx, 0, 1]\n",
    "        p1 = mrtot00 * mi[:, idx, 1, 0] + mrtot10 * mi[:, idx, 1, 1]\n",
    "        mrtot00 = p0\n",
    "        mrtot10 = p1\n",
    "\n",
    "        p0 = mrtot01 * mi[:, idx, 0, 0] + mrtot11 * mi[:, idx, 0, 1]\n",
    "        p1 = mrtot01 * mi[:, idx, 1, 0] + mrtot11 * mi[:, idx, 1, 1]\n",
    "\n",
    "        mrtot01 = p0\n",
    "        mrtot11 = p1\n",
    "\n",
    "    r = mrtot01 / mrtot00\n",
    "    reflectivity = r * np.conj(r)\n",
    "    reflectivity += bkg\n",
    "    return np.real(np.reshape(reflectivity, qvals.shape))"
   ]
  },
  {
   "cell_type": "code",
   "execution_count": null,
   "metadata": {},
   "outputs": [],
   "source": [
    "np.testing.assert_allclose(abeles2(w, q), abeles(w, q))"
   ]
  },
  {
   "cell_type": "code",
   "execution_count": null,
   "metadata": {},
   "outputs": [],
   "source": [
    "np.testing.assert_allclose(abeles2(w, q)[:, :, 0, 0], abeles(w, q)[0])\n",
    "np.testing.assert_allclose(abeles2(w, q)[:, :, 0, 1], abeles(w, q)[1])\n",
    "np.testing.assert_allclose(abeles2(w, q)[:, :, 1, 0], abeles(w, q)[2])\n",
    "np.testing.assert_allclose(abeles2(w, q)[:, :, 1, 1], abeles(w, q)[3])"
   ]
  },
  {
   "cell_type": "code",
   "execution_count": null,
   "metadata": {},
   "outputs": [],
   "source": [
    "%timeit abeles2(w, q)\n",
    "%timeit abeles(w, q)"
   ]
  },
  {
   "cell_type": "code",
   "execution_count": null,
   "metadata": {},
   "outputs": [],
   "source": [
    "plt.plot(q, abeles2(w, q), label='new')\n",
    "plt.plot(q, abeles(w, q))\n",
    "plt.yscale('log')\n",
    "plt.legend();"
   ]
  },
  {
   "cell_type": "code",
   "execution_count": null,
   "metadata": {},
   "outputs": [],
   "source": [
    "%lprun -f abeles abeles(w, q)"
   ]
  },
  {
   "cell_type": "code",
   "execution_count": null,
   "metadata": {},
   "outputs": [],
   "source": [
    "a = np.random.uniform(size=100).reshape(25, 2, 2)"
   ]
  },
  {
   "cell_type": "code",
   "execution_count": null,
   "metadata": {},
   "outputs": [],
   "source": [
    "np.dot.reduce()"
   ]
  },
  {
   "cell_type": "code",
   "execution_count": null,
   "metadata": {},
   "outputs": [],
   "source": [
    "np.multiply.identity"
   ]
  },
  {
   "cell_type": "code",
   "execution_count": null,
   "metadata": {},
   "outputs": [],
   "source": []
  }
 ],
 "metadata": {
  "kernelspec": {
   "display_name": "Python 3",
   "language": "python",
   "name": "python3"
  },
  "language_info": {
   "codemirror_mode": {
    "name": "ipython",
    "version": 3
   },
   "file_extension": ".py",
   "mimetype": "text/x-python",
   "name": "python",
   "nbconvert_exporter": "python",
   "pygments_lexer": "ipython3",
   "version": "3.8.5"
  }
 },
 "nbformat": 4,
 "nbformat_minor": 4
}
