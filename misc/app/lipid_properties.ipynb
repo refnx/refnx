{
 "cells": [
  {
   "cell_type": "code",
   "execution_count": 1,
   "metadata": {},
   "outputs": [],
   "source": [
    "import json\n",
    "import periodictable as pt"
   ]
  },
  {
   "cell_type": "code",
   "execution_count": 2,
   "metadata": {},
   "outputs": [],
   "source": [
    "lipids = {}\n",
    "\n",
    "class Lipid(object):\n",
    "    def __init__(self, name, head_formula, tail_formula, head_exchangable=0,\n",
    "                 tail_exchangable=0, structure=None, references=None,\n",
    "                 conditions=None):\n",
    "        self.name = name\n",
    "        self.head_formula = head_formula\n",
    "        self.tail_formula = tail_formula\n",
    "        self.structure = structure\n",
    "        self.references = references\n",
    "        self.conditions = conditions\n",
    "        if conditions is None:\n",
    "            self.conditions = {}\n",
    "        self.head_exchangable = head_exchangable\n",
    "        self.tail_exchangable = tail_exchangable\n",
    "\n",
    "    def __repr__(self):\n",
    "        s = (\"Lipid({name!r}, {head_formula!r}, {tail_formula!r},\"\n",
    "             \" head_exchangable={head_exchangable!r},\"\n",
    "             \" tail_exchangable={tail_exchangable!r},\"\n",
    "             \" structure={structure!r}, references={references!r},\"\n",
    "             \" conditions={conditions!r}\")\n",
    "        return s.format(**self.__dict__)\n",
    "\n",
    "    def add_condition(self, descriptor, vh, vt):\n",
    "        self.conditions[descriptor] = (vh, vt)\n",
    "\n",
    "    @property\n",
    "    def formula(self):\n",
    "        return pt.formula(self.head_formula) + pt.formula(self.tail_formula)\n",
    "    \n",
    "    @property\n",
    "    def tf(self):\n",
    "        return pt.formula(self.tail_formula)\n",
    "\n",
    "    @property\n",
    "    def hf(self):\n",
    "        return pt.formula(self.head_formula)\n",
    "\n",
    "    def neutron_scattering_lengths(self, condition, vf_d_solvent=1,\n",
    "                                   neutron_wavelength=1.8):\n",
    "        vh, vt = self.conditions[condition]\n",
    "        \n",
    "        hf = exchange_protons_formula(self.hf,\n",
    "                                      self.head_exchangable,\n",
    "                                      vf_d_solvent)\n",
    "        tf = exchange_protons_formula(self.tf,\n",
    "                                      self.tail_exchangable,\n",
    "                                      vf_d_solvent)\n",
    "\n",
    "        h_density = calculate_density(hf, vh)\n",
    "        t_density = calculate_density(tf, vt)\n",
    "\n",
    "        h_sld = pt.neutron_sld(hf, density=h_density, wavelength=neutron_wavelength)\n",
    "        t_sld = pt.neutron_sld(tf, density=t_density, wavelength=neutron_wavelength)\n",
    "        h_scatlen = complex(*h_sld[0:2]) * vh / 1e6\n",
    "        t_scatlen = complex(*t_sld[0:2]) * vt / 1e6\n",
    "        return h_scatlen, t_scatlen\n",
    "\n",
    "    def xray_scattering_lengths(self, condition, energy=8.048):\n",
    "        vh, vt = self.conditions[condition]\n",
    "        h_density = calculate_density(self.hf, vh)\n",
    "        t_density = calculate_density(self.tf, vt)\n",
    "\n",
    "        h_sld = pt.xray_sld(self.hf, density=h_density, energy=energy)\n",
    "        t_sld = pt.xray_sld(self.tf, density=t_density, energy=energy)\n",
    "        h_scatlen = complex(*h_sld[0:2]) * vh / 1e6\n",
    "        t_scatlen = complex(*t_sld[0:2]) * vt / 1e6\n",
    "        return h_scatlen, t_scatlen\n",
    "\n",
    "\n",
    "def calculate_density(formula, volume):\n",
    "    return formula.molecular_mass / formula.volume(a=volume, b=1, c=1)\n",
    "\n",
    "\n",
    "def convert_atoms_to_formula(atoms):\n",
    "    s = []\n",
    "    for k, v in atoms.items():\n",
    "        s.append([v, k])\n",
    "    return pt.formula(s)\n",
    "\n",
    "\n",
    "def exchange_protons_formula(formula, exchangable, vf_d):\n",
    "    if not exchangable or pt.H not in formula.atoms:\n",
    "        return formula\n",
    "\n",
    "    atoms = formula.atoms\n",
    "    initial = atoms[pt.H]\n",
    "    atoms[pt.H] = initial - exchangable * vf_d\n",
    "    atoms[pt.D] = exchangable * vf_d\n",
    "    return convert_atoms_to_formula(atoms)"
   ]
  },
  {
   "cell_type": "code",
   "execution_count": 3,
   "metadata": {},
   "outputs": [],
   "source": [
    "name = 'h-DMPC'\n",
    "l = Lipid(name, 'C10H18O8NP', 'C26H54', structure=name + 'png',\n",
    "          references=['DMPC in the fluid phase: J.F. Nagle and S. Tristram-Nagle (2000) Biochim. Biophys. Acta: Rev. Biomembr. 1469: 159-195',\n",
    "                      'DMPC in the gel phase: S. Tristram-Nagle et al. (2002) Biophys. J. 83: 3324-3335'])\n",
    "l.add_condition('fluid30C', 319, 782)\n",
    "l.add_condition('gel10C', 319, 710)\n",
    "lipids[name] = l"
   ]
  },
  {
   "cell_type": "code",
   "execution_count": 4,
   "metadata": {},
   "outputs": [],
   "source": [
    "name = 'd54-DMPC'\n",
    "l = Lipid(name, 'C10H18O8NP', 'C26D54', structure=name + '.png',\n",
    "              references=['DMPC in the fluid phase: J.F. Nagle and S. Tristram-Nagle (2000) Biochim. Biophys. Acta: Rev. Biomembr. 1469: 159-195',\n",
    "                          'DMPC in the gel phase: S. Tristram-Nagle et al. (2002) Biophys. J. 83: 3324-3335'])\n",
    "l.add_condition('fluid30C', 319, 782)\n",
    "l.add_condition('gel10C', 319, 710)\n",
    "lipids[name] = l"
   ]
  },
  {
   "cell_type": "code",
   "execution_count": 5,
   "metadata": {},
   "outputs": [],
   "source": [
    "name = 'h-DMPG'\n",
    "l = Lipid(name, 'C8H12O10P1', 'C26H54', structure=name + '.png',\n",
    "          head_exchangable=2,\n",
    "          references=['Used fluid phase DMPC for tails volume: J.F. Nagle and S. Tristram-Nagle (2000) Biochim. Biophys. Acta: Rev. Biomembr. 1469: 159-195',\n",
    "                      'Used headgroup volume from DPPG: G. Pabst et al. (2007) Biophys. J. 93: 513-525'])\n",
    "l.add_condition('ambient', 257, 782)\n",
    "lipids[name] = l"
   ]
  },
  {
   "cell_type": "code",
   "execution_count": 6,
   "metadata": {},
   "outputs": [],
   "source": [
    "name = 'd54-DMPG'\n",
    "l = Lipid(name, 'C8H12O10P1', 'C26D54', structure=name + '.png',\n",
    "          head_exchangable=2,\n",
    "          references=['Used fluid phase DMPC for tails volume: J.F. Nagle and S. Tristram-Nagle (2000) Biochim. Biophys. Acta: Rev. Biomembr. 1469: 159-195',\n",
    "                      'Used headgroup volume from DPPG: G. Pabst et al. (2007) Biophys. J. 93: 513-525'])\n",
    "l.add_condition('ambient', 257, 782)\n",
    "lipids[name] = l"
   ]
  },
  {
   "cell_type": "code",
   "execution_count": 7,
   "metadata": {},
   "outputs": [],
   "source": [
    "name = 'h-POPC'\n",
    "l = Lipid(name, 'C10H18O8NP', 'C32H64', structure=name + '.png',\n",
    "          references=['S.W. Chiu et al. (1999) Biophys. J. 77: 2462-2469'])\n",
    "l.add_condition('ambient', 319, 944)\n",
    "lipids[name] = l"
   ]
  },
  {
   "cell_type": "code",
   "execution_count": 8,
   "metadata": {},
   "outputs": [],
   "source": [
    "name = 'd31-POPC'\n",
    "l = Lipid(name, 'C10H18O8NP', 'C32H33D31', structure=name + '.png',\n",
    "          references=['S.W. Chiu et al. (1999) Biophys. J. 77: 2462-2469'])\n",
    "l.add_condition('ambient', 319, 944)\n",
    "lipids[name] = l"
   ]
  },
  {
   "cell_type": "code",
   "execution_count": 9,
   "metadata": {},
   "outputs": [],
   "source": [
    "name = 'd9-POPC'\n",
    "l = Lipid(name, 'C10H9D9O8NP', 'C32H64', structure=name + '.png',\n",
    "          references=['S.W. Chiu et al. (1999) Biophys. J. 77: 2462-2469'])\n",
    "l.add_condition('ambient', 319, 944)\n",
    "lipids[name] = l"
   ]
  },
  {
   "cell_type": "code",
   "execution_count": 10,
   "metadata": {},
   "outputs": [],
   "source": [
    "name = 'h-POPG'\n",
    "l = Lipid(name, 'C8H12O10P', 'C32H64', structure=name + '.png',\n",
    "          head_exchangable=2,\n",
    "          references=['For obtaining heads volume: G. Pabst et al. (2007) Biophys. J. 93: 513-525',\n",
    "                      'For obtaining tails volume: S.W. Chiu et al. (1999) Biophys. J. 77: 2462-2469'])\n",
    "l.add_condition('ambient', 257, 944)\n",
    "lipids[name] = l"
   ]
  },
  {
   "cell_type": "code",
   "execution_count": 11,
   "metadata": {},
   "outputs": [],
   "source": [
    "name = 'd31-POPG'\n",
    "l = Lipid(name, 'C8H12O10P', 'C32H33D31', structure=name + '.png',\n",
    "          head_exchangable=2,\n",
    "          references=['For obtaining tails volume: S.W. Chiu et al. (1999) Biophys. J. 77: 2462-2469',\n",
    "                      'For obtaining heads volume: G. Pabst et al. (2007) Biophys. J. 93: 513-525 '])\n",
    "l.add_condition('ambient', 257, 944)\n",
    "lipids[name] = l"
   ]
  },
  {
   "cell_type": "code",
   "execution_count": 12,
   "metadata": {},
   "outputs": [],
   "source": [
    "name = 'h-POPS'\n",
    "l = Lipid(name, 'C8H11O10NP', 'C32H64', structure=name + '.png',\n",
    "          head_exchangable=1,\n",
    "          references=['For obtaining tails volume: S.W. Chiu et al. (1999) Biophys. J. 77: 2462-2469',\n",
    "                      'For obtaining heads volume: H.I. Petrache et al. (2004) Biophys. J. 86: 1574-1586'])\n",
    "l.add_condition('ambient', 244, 944)\n",
    "lipids[name] = l"
   ]
  },
  {
   "cell_type": "code",
   "execution_count": 13,
   "metadata": {},
   "outputs": [],
   "source": [
    "name = 'd31-POPS'\n",
    "l = Lipid(name, 'C8H11O10NP', 'C32H33D31', structure=name + '.png',\n",
    "          head_exchangable=1,\n",
    "          references=['For obtaining tails volume: S.W. Chiu et al. (1999) Biophys. J. 77: 2462-2469',\n",
    "                      'For obtaining heads volume: H.I. Petrache et al. (2004) Biophys. J. 86: 1574-1586'])\n",
    "l.add_condition('ambient', 244, 944)\n",
    "lipids[name] = l"
   ]
  },
  {
   "cell_type": "code",
   "execution_count": 14,
   "metadata": {},
   "outputs": [],
   "source": [
    "name = 'h-POPE'\n",
    "l = Lipid(name, 'C7H12O8P', 'C32H64', structure=name + '.png',\n",
    "          head_exchangable=0,\n",
    "          references=['For obtaining tails volume: S.W. Chiu et al. (1999) Biophys. J. 77: 2462-2469',\n",
    "                      'For obtaining heads volume: J.F. Nagle and S. Tristram-Nagle (2000) Biochim. Biophys. Acta: Rev. Biomembr. 1469: 159-195'])\n",
    "l.add_condition('ambient', 252, 944)\n",
    "lipids[name] = l"
   ]
  },
  {
   "cell_type": "code",
   "execution_count": 15,
   "metadata": {},
   "outputs": [],
   "source": [
    "name = 'd31-POPE'\n",
    "l = Lipid(name, 'C7H12O8P', 'C32H33D31', structure=name + '.png',\n",
    "          head_exchangable=0,\n",
    "          references=['For obtaining tails volume: S.W. Chiu et al. (1999) Biophys. J. 77: 2462-2469',\n",
    "                      'For obtaining heads volume: J.F. Nagle and S. Tristram-Nagle (2000) Biochim. Biophys. Acta: Rev. Biomembr. 1469: 159-195'])\n",
    "l.add_condition('ambient', 252, 944)\n",
    "lipids[name] = l"
   ]
  },
  {
   "cell_type": "code",
   "execution_count": 16,
   "metadata": {},
   "outputs": [],
   "source": [
    "name = 'd4-POPE'\n",
    "l = Lipid(name, 'C7H8D4O8P', 'C32H64', structure=name + '.png',\n",
    "          head_exchangable=0,\n",
    "          references=['For obtaining tails volume: S.W. Chiu et al. (1999) Biophys. J. 77: 2462-2469',\n",
    "                      'For obtaining heads volume: J.F. Nagle and S. Tristram-Nagle (2000) Biochim. Biophys. Acta: Rev. Biomembr. 1469: 159-195'])\n",
    "l.add_condition('ambient', 252, 944)\n",
    "lipids[name] = l"
   ]
  },
  {
   "cell_type": "code",
   "execution_count": 17,
   "metadata": {},
   "outputs": [],
   "source": [
    "name = 'h-DPPC'\n",
    "l = Lipid(name, 'C10H18O8NP', 'C30H62', structure=name + '.png',\n",
    "          head_exchangable=0,\n",
    "          references=['J.F. Nagle and S. Tristram-Nagle (2000) Biochim. Biophys. Acta: Rev. Biomembr. 1469: 159-195'])\n",
    "l.add_condition('gel20C', 319, 825)\n",
    "l.add_condition('fluid50C', 319, 913)\n",
    "lipids[name] = l"
   ]
  },
  {
   "cell_type": "code",
   "execution_count": 18,
   "metadata": {},
   "outputs": [],
   "source": [
    "name = 'd62-DPPC'\n",
    "l = Lipid(name, 'C10H18O8NP', 'C30D62', structure=name + '.png',\n",
    "          head_exchangable=0,\n",
    "          references=['J.F. Nagle and S. Tristram-Nagle (2000) Biochim. Biophys. Acta: Rev. Biomembr. 1469: 159-195'])\n",
    "l.add_condition('gel20C', 319, 825)\n",
    "l.add_condition('fluid50C', 319, 913)\n",
    "lipids[name] = l"
   ]
  },
  {
   "cell_type": "code",
   "execution_count": 20,
   "metadata": {},
   "outputs": [],
   "source": [
    "with open('lipids.json', 'w') as f:\n",
    "    json.dump([lipids[p].__dict__ for p in lipids], f)"
   ]
  },
  {
   "cell_type": "code",
   "execution_count": null,
   "metadata": {},
   "outputs": [],
   "source": []
  }
 ],
 "metadata": {
  "kernelspec": {
   "display_name": "Python 3",
   "language": "python",
   "name": "python3"
  },
  "language_info": {
   "codemirror_mode": {
    "name": "ipython",
    "version": 3
   },
   "file_extension": ".py",
   "mimetype": "text/x-python",
   "name": "python",
   "nbconvert_exporter": "python",
   "pygments_lexer": "ipython3",
   "version": "3.7.2"
  }
 },
 "nbformat": 4,
 "nbformat_minor": 2
}
