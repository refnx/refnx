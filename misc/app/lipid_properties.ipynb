{
 "cells": [
  {
   "cell_type": "code",
   "execution_count": 1,
   "metadata": {},
   "outputs": [],
   "source": [
    "import json\n",
    "import periodictable as pt\n",
    "from refnx.reflect._app.lipid_leaflet import Lipid\n",
    "lipids = {}"
   ]
  },
  {
   "cell_type": "code",
   "execution_count": 2,
   "metadata": {},
   "outputs": [],
   "source": [
    "name = 'h-DMPC'\n",
    "l = Lipid(name, 'C10H18O8NP', 'C26H54', structure=name + '.png',\n",
    "          references=['DMPC in the fluid phase: J.F. Nagle and S. Tristram-Nagle (2000) Biochim. Biophys. Acta: Rev. Biomembr. 1469: 159-195',\n",
    "                      'DMPC in the gel phase: S. Tristram-Nagle et al. (2002) Biophys. J. 83: 3324-3335'])\n",
    "l.add_condition('fluid30C', 319, 782)\n",
    "l.add_condition('gel10C', 319, 710)\n",
    "lipids[name] = l"
   ]
  },
  {
   "cell_type": "code",
   "execution_count": 3,
   "metadata": {},
   "outputs": [],
   "source": [
    "name = 'd54-DMPC'\n",
    "l = Lipid(name, 'C10H18O8NP', 'C26D54', structure=name + '.png',\n",
    "              references=['DMPC in the fluid phase: J.F. Nagle and S. Tristram-Nagle (2000) Biochim. Biophys. Acta: Rev. Biomembr. 1469: 159-195',\n",
    "                          'DMPC in the gel phase: S. Tristram-Nagle et al. (2002) Biophys. J. 83: 3324-3335'])\n",
    "l.add_condition('fluid30C', 319, 782)\n",
    "l.add_condition('gel10C', 319, 710)\n",
    "lipids[name] = l"
   ]
  },
  {
   "cell_type": "code",
   "execution_count": 4,
   "metadata": {},
   "outputs": [],
   "source": [
    "name = 'h-DMPG'\n",
    "l = Lipid(name, 'C8H12O10P1', 'C26H54', structure=name + '.png',\n",
    "          head_exchangable=2,\n",
    "          references=['Used fluid phase DMPC for tails volume: J.F. Nagle and S. Tristram-Nagle (2000) Biochim. Biophys. Acta: Rev. Biomembr. 1469: 159-195',\n",
    "                      'Used headgroup volume from DPPG: G. Pabst et al. (2007) Biophys. J. 93: 513-525'])\n",
    "l.add_condition('ambient', 257, 782)\n",
    "lipids[name] = l"
   ]
  },
  {
   "cell_type": "code",
   "execution_count": 5,
   "metadata": {},
   "outputs": [],
   "source": [
    "name = 'd54-DMPG'\n",
    "l = Lipid(name, 'C8H12O10P1', 'C26D54', structure=name + '.png',\n",
    "          head_exchangable=2,\n",
    "          references=['Used fluid phase DMPC for tails volume: J.F. Nagle and S. Tristram-Nagle (2000) Biochim. Biophys. Acta: Rev. Biomembr. 1469: 159-195',\n",
    "                      'Used headgroup volume from DPPG: G. Pabst et al. (2007) Biophys. J. 93: 513-525'])\n",
    "l.add_condition('ambient', 257, 782)\n",
    "lipids[name] = l"
   ]
  },
  {
   "cell_type": "code",
   "execution_count": 6,
   "metadata": {},
   "outputs": [],
   "source": [
    "name = 'h-POPC'\n",
    "l = Lipid(name, 'C10H18O8NP', 'C32H64', structure=name + '.png',\n",
    "          references=['S.W. Chiu et al. (1999) Biophys. J. 77: 2462-2469'])\n",
    "l.add_condition('ambient', 319, 944)\n",
    "lipids[name] = l"
   ]
  },
  {
   "cell_type": "code",
   "execution_count": 7,
   "metadata": {},
   "outputs": [],
   "source": [
    "name = 'd31-POPC'\n",
    "l = Lipid(name, 'C10H18O8NP', 'C32H33D31', structure=name + '.png',\n",
    "          references=['S.W. Chiu et al. (1999) Biophys. J. 77: 2462-2469'])\n",
    "l.add_condition('ambient', 319, 944)\n",
    "lipids[name] = l"
   ]
  },
  {
   "cell_type": "code",
   "execution_count": 8,
   "metadata": {},
   "outputs": [],
   "source": [
    "name = 'd9-POPC'\n",
    "l = Lipid(name, 'C10H9D9O8NP', 'C32H64', structure=name + '.png',\n",
    "          references=['S.W. Chiu et al. (1999) Biophys. J. 77: 2462-2469'])\n",
    "l.add_condition('ambient', 319, 944)\n",
    "lipids[name] = l"
   ]
  },
  {
   "cell_type": "code",
   "execution_count": 9,
   "metadata": {},
   "outputs": [],
   "source": [
    "name = 'h-POPG'\n",
    "l = Lipid(name, 'C8H12O10P', 'C32H64', structure=name + '.png',\n",
    "          head_exchangable=2,\n",
    "          references=['For obtaining heads volume: G. Pabst et al. (2007) Biophys. J. 93: 513-525',\n",
    "                      'For obtaining tails volume: S.W. Chiu et al. (1999) Biophys. J. 77: 2462-2469'])\n",
    "l.add_condition('ambient', 257, 944)\n",
    "lipids[name] = l"
   ]
  },
  {
   "cell_type": "code",
   "execution_count": 10,
   "metadata": {},
   "outputs": [],
   "source": [
    "name = 'd31-POPG'\n",
    "l = Lipid(name, 'C8H12O10P', 'C32H33D31', structure=name + '.png',\n",
    "          head_exchangable=2,\n",
    "          references=['For obtaining tails volume: S.W. Chiu et al. (1999) Biophys. J. 77: 2462-2469',\n",
    "                      'For obtaining heads volume: G. Pabst et al. (2007) Biophys. J. 93: 513-525 '])\n",
    "l.add_condition('ambient', 257, 944)\n",
    "lipids[name] = l"
   ]
  },
  {
   "cell_type": "code",
   "execution_count": 11,
   "metadata": {},
   "outputs": [],
   "source": [
    "name = 'h-POPS'\n",
    "l = Lipid(name, 'C8H11O10NP', 'C32H64', structure=name + '.png',\n",
    "          head_exchangable=1,\n",
    "          references=['For obtaining tails volume: S.W. Chiu et al. (1999) Biophys. J. 77: 2462-2469',\n",
    "                      'For obtaining heads volume: H.I. Petrache et al. (2004) Biophys. J. 86: 1574-1586'])\n",
    "l.add_condition('ambient', 244, 944)\n",
    "lipids[name] = l"
   ]
  },
  {
   "cell_type": "code",
   "execution_count": 12,
   "metadata": {},
   "outputs": [],
   "source": [
    "name = 'd31-POPS'\n",
    "l = Lipid(name, 'C8H11O10NP', 'C32H33D31', structure=name + '.png',\n",
    "          head_exchangable=1,\n",
    "          references=['For obtaining tails volume: S.W. Chiu et al. (1999) Biophys. J. 77: 2462-2469',\n",
    "                      'For obtaining heads volume: H.I. Petrache et al. (2004) Biophys. J. 86: 1574-1586'])\n",
    "l.add_condition('ambient', 244, 944)\n",
    "lipids[name] = l"
   ]
  },
  {
   "cell_type": "code",
   "execution_count": 13,
   "metadata": {},
   "outputs": [],
   "source": [
    "name = 'h-POPE'\n",
    "l = Lipid(name, 'C7H12O8P', 'C32H64', structure=name + '.png',\n",
    "          head_exchangable=0,\n",
    "          references=['For obtaining tails volume: S.W. Chiu et al. (1999) Biophys. J. 77: 2462-2469',\n",
    "                      'For obtaining heads volume: J.F. Nagle and S. Tristram-Nagle (2000) Biochim. Biophys. Acta: Rev. Biomembr. 1469: 159-195'])\n",
    "l.add_condition('ambient', 252, 944)\n",
    "lipids[name] = l"
   ]
  },
  {
   "cell_type": "code",
   "execution_count": 14,
   "metadata": {},
   "outputs": [],
   "source": [
    "name = 'd31-POPE'\n",
    "l = Lipid(name, 'C7H12O8P', 'C32H33D31', structure=name + '.png',\n",
    "          head_exchangable=0,\n",
    "          references=['For obtaining tails volume: S.W. Chiu et al. (1999) Biophys. J. 77: 2462-2469',\n",
    "                      'For obtaining heads volume: J.F. Nagle and S. Tristram-Nagle (2000) Biochim. Biophys. Acta: Rev. Biomembr. 1469: 159-195'])\n",
    "l.add_condition('ambient', 252, 944)\n",
    "lipids[name] = l"
   ]
  },
  {
   "cell_type": "code",
   "execution_count": 15,
   "metadata": {},
   "outputs": [],
   "source": [
    "name = 'd4-POPE'\n",
    "l = Lipid(name, 'C7H8D4O8P', 'C32H64', structure=name + '.png',\n",
    "          head_exchangable=0,\n",
    "          references=['For obtaining tails volume: S.W. Chiu et al. (1999) Biophys. J. 77: 2462-2469',\n",
    "                      'For obtaining heads volume: J.F. Nagle and S. Tristram-Nagle (2000) Biochim. Biophys. Acta: Rev. Biomembr. 1469: 159-195'])\n",
    "l.add_condition('ambient', 252, 944)\n",
    "lipids[name] = l"
   ]
  },
  {
   "cell_type": "code",
   "execution_count": 16,
   "metadata": {},
   "outputs": [],
   "source": [
    "name = 'h-DPPC'\n",
    "l = Lipid(name, 'C10H18O8NP', 'C30H62', structure=name + '.png',\n",
    "          head_exchangable=0,\n",
    "          references=['J.F. Nagle and S. Tristram-Nagle (2000) Biochim. Biophys. Acta: Rev. Biomembr. 1469: 159-195'])\n",
    "l.add_condition('gel20C', 319, 825)\n",
    "l.add_condition('fluid50C', 319, 913)\n",
    "lipids[name] = l"
   ]
  },
  {
   "cell_type": "code",
   "execution_count": 17,
   "metadata": {},
   "outputs": [],
   "source": [
    "name = 'd62-DPPC'\n",
    "l = Lipid(name, 'C10H18O8NP', 'C30D62', structure=name + '.png',\n",
    "          head_exchangable=0,\n",
    "          references=['J.F. Nagle and S. Tristram-Nagle (2000) Biochim. Biophys. Acta: Rev. Biomembr. 1469: 159-195'])\n",
    "l.add_condition('gel20C', 319, 825)\n",
    "l.add_condition('fluid50C', 319, 913)\n",
    "lipids[name] = l"
   ]
  },
  {
   "cell_type": "code",
   "execution_count": 18,
   "metadata": {},
   "outputs": [],
   "source": [
    "with open('lipids.json', 'w') as f:\n",
    "    json.dump([lipids[p].__dict__ for p in lipids], f)"
   ]
  },
  {
   "cell_type": "code",
   "execution_count": null,
   "metadata": {},
   "outputs": [],
   "source": []
  }
 ],
 "metadata": {
  "kernelspec": {
   "display_name": "Python 3",
   "language": "python",
   "name": "python3"
  },
  "language_info": {
   "codemirror_mode": {
    "name": "ipython",
    "version": 3
   },
   "file_extension": ".py",
   "mimetype": "text/x-python",
   "name": "python",
   "nbconvert_exporter": "python",
   "pygments_lexer": "ipython3",
   "version": "3.7.2"
  }
 },
 "nbformat": 4,
 "nbformat_minor": 2
}
