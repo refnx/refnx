{
 "cells": [
  {
   "cell_type": "markdown",
   "id": "8faef39e",
   "metadata": {},
   "source": [
    "# Analysing non-spinflip polarised NR data\n",
    "\n",
    "Currently (5/Aug/2021) `refnx` does not have the ability to fully analyse polarised neutron reflectometry data. However, it can be used to analyse the non-spinflip channels of a polarised neutron reflectometry measurement. Here we demonstrate how to do this using auxiliary `Parameter`."
   ]
  },
  {
   "cell_type": "code",
   "execution_count": 1,
   "id": "c7d349ad",
   "metadata": {},
   "outputs": [],
   "source": [
    "# some necessary imports\n",
    "%matplotlib inline\n",
    "import numpy as np\n",
    "import matplotlib.pyplot as plt\n",
    "\n",
    "from refnx.analysis import Parameter, Objective, CurveFitter, GlobalObjective\n",
    "from refnx.reflect import SLD, Slab, Structure, ReflectModel\n",
    "from refnx.dataset import Data1D\n",
    "from refnx._lib import flatten"
   ]
  },
  {
   "cell_type": "code",
   "execution_count": 2,
   "id": "f06c6737",
   "metadata": {},
   "outputs": [],
   "source": [
    "# create datasets from the NSF PNR data\n",
    "data_uu = Data1D()\n",
    "data_dd = Data1D()"
   ]
  },
  {
   "cell_type": "code",
   "execution_count": 3,
   "id": "131aed72",
   "metadata": {},
   "outputs": [],
   "source": [
    "# create SLD (Scattering Length Density) objects for each of the materials\n",
    "air = SLD(0.0, name=\"air\")\n",
    "sio2 = SLD(3.47, name=\"SiO2\")\n",
    "si = SLD(2.07, name=\"Si\")\n",
    "\n",
    "# to describe the Fe layer we're going to create parameters to describe the nuclear\n",
    "# and magnetic parts of the SLD. Instead of using the magnetic moment and angle we\n",
    "# could just use a magnetic SLD\n",
    "\n",
    "nuclear_Fe = Parameter(6.0, name=\"Fe nuclear part\")\n",
    "mag_moment_Fe = Parameter(200, name=\"Fe emu/cc\")\n",
    "angle = Parameter(0, name=\"angle\", bounds=(0, 90.))\n",
    "\n",
    "# Now create two SLD objects for the Fe layer, one for the UU channel, one for the DD channel.\n",
    "# don't worry that the SLD is set to zero to start with\n",
    "\n",
    "Fe_dd = SLD(0.0, name=\"Fe DD SLD\")\n",
    "Fe_uu = SLD(0.0, name=\"Fe UU SLD\")\n",
    "\n",
    "# Now we make constraints for the SLD objects. Each SLD object has two parameters,\n",
    "# SLD.real and SLD.imag. The conversion factor of 2.85e-3 converts the magnetic moment\n",
    "# from emu/cc to 10**-6 Å**-2\n",
    "Fe_dd.real.constraint = nuclear_Fe - mag_moment_Fe * 2.85e-3 * np.cos(angle*np.pi/180)\n",
    "Fe_uu.real.constraint = nuclear_Fe + mag_moment_Fe * 2.85e-3 * np.cos(angle*np.pi/180)"
   ]
  },
  {
   "cell_type": "code",
   "execution_count": 4,
   "id": "5a4b88bb",
   "metadata": {},
   "outputs": [
    {
     "data": {
      "text/plain": [
       "((5.43+0j), (6.57+0j))"
      ]
     },
     "execution_count": 4,
     "metadata": {},
     "output_type": "execute_result"
    }
   ],
   "source": [
    "# let's check on the SLDs. Observe that the SLDs obey the constraints\n",
    "\n",
    "complex(Fe_dd), complex(Fe_uu)"
   ]
  },
  {
   "cell_type": "code",
   "execution_count": 5,
   "id": "93678e27",
   "metadata": {},
   "outputs": [
    {
     "data": {
      "text/plain": [
       "((5.145+0j), (6.855+0j))"
      ]
     },
     "execution_count": 5,
     "metadata": {},
     "output_type": "execute_result"
    }
   ],
   "source": [
    "# let's try altering the magnetic part and see if the values are updated in the SLDs.\n",
    "# `magnetic_Fe` is a Parameter, and Parameter values are modified like this:\n",
    "\n",
    "mag_moment_Fe.value = 300\n",
    "\n",
    "# note how both the SLD objects are updated.\n",
    "\n",
    "complex(Fe_dd), complex(Fe_uu)"
   ]
  },
  {
   "cell_type": "code",
   "execution_count": 6,
   "id": "d28c798d",
   "metadata": {},
   "outputs": [],
   "source": [
    "# Now make Slabs that describe each layer. These can either be made from SLD objects,\n",
    "# or by using the `Slab` constructor directly.\n",
    "\n",
    "# sio2 slab has a thickness of 20 and roughness of 3.\n",
    "sio2_l = sio2(20, 3)\n",
    "\n",
    "# si backing medium has a roughness of 3 with the sio2\n",
    "si_l = si(np.inf, 3)\n",
    "\n",
    "# now make the Fe layers for each of the spin channels. Note that we create\n",
    "# Parameter for the thickness and roughness which will be shared over both spin channels.\n",
    "\n",
    "Fe_thickness = Parameter(200, name=\"Fe thickness\")\n",
    "Fe_roughness = Parameter(5, name=\"Fe roughness\")\n",
    "\n",
    "Fe_dd_l = Slab(Fe_thickness, Fe_dd, Fe_roughness, name=\"Fe dd slab\")\n",
    "Fe_uu_l = Slab(Fe_thickness, Fe_uu, Fe_roughness, name=\"Fe uu slab\")"
   ]
  },
  {
   "cell_type": "code",
   "execution_count": 7,
   "id": "f18b1435",
   "metadata": {},
   "outputs": [],
   "source": [
    "# now we make structures for each of the spin channels\n",
    "# note that we use the same `sio2_l` for each of the structures. This\n",
    "# will share the same sio2 thickness and roughness in the structures\n",
    "# and will reduce parameter numbers in a fit\n",
    "\n",
    "s_dd = air | Fe_dd_l | sio2_l | si_l\n",
    "s_uu = air | Fe_uu_l | sio2_l | si_l"
   ]
  },
  {
   "cell_type": "code",
   "execution_count": 8,
   "id": "b0454b46",
   "metadata": {},
   "outputs": [
    {
     "name": "stdout",
     "output_type": "stream",
     "text": [
      "20 20\n",
      "26\n"
     ]
    }
   ],
   "source": [
    "# The total number of parameters is reduced by sharing Parameter/SLD/Slab objects\n",
    "# over the two structures.\n",
    "\n",
    "# what are the number of parameters in each of the structures?\n",
    "print(len(list(flatten(s_dd.parameters))), len(list(flatten(s_uu.parameters))))\n",
    "\n",
    "# now what are the number of unique parameters in both parameter sets?\n",
    "combined_set = set(flatten(s_dd.parameters)).union(set(flatten(s_uu.parameters)))\n",
    "print(len(combined_set))\n",
    "\n",
    "# this shows that the unique number of parameters over both datasets is 26, reduced from 40.\n",
    "# i.e. there are parameters that are joint over both datasets"
   ]
  },
  {
   "cell_type": "code",
   "execution_count": 9,
   "id": "40bc9afe",
   "metadata": {},
   "outputs": [
    {
     "data": {
      "image/png": "[encoded data removed]",
      "text/plain": [
       "<Figure size 432x288 with 1 Axes>"
      ]
     },
     "metadata": {
      "needs_background": "light"
     },
     "output_type": "display_data"
    }
   ],
   "source": [
    "plt.plot(*s_dd.sld_profile(), label='dd')\n",
    "plt.plot(*s_uu.sld_profile(), label=\"uu\")\n",
    "plt.ylabel(\"SLD\")\n",
    "plt.xlabel(\"z / $\\AA$\")\n",
    "plt.legend();"
   ]
  },
  {
   "cell_type": "code",
   "execution_count": 10,
   "id": "9fe3999a",
   "metadata": {},
   "outputs": [],
   "source": [
    "# now place the Structures into a ReflectModel. ReflectModel applies resolution smearing, etc.\n",
    "\n",
    "model_dd = ReflectModel(s_dd)\n",
    "model_uu = ReflectModel(s_uu)"
   ]
  },
  {
   "cell_type": "code",
   "execution_count": 11,
   "id": "7782fdf3",
   "metadata": {},
   "outputs": [
    {
     "data": {
      "image/png": "[encoded data removed]",
      "text/plain": [
       "<Figure size 432x288 with 1 Axes>"
      ]
     },
     "metadata": {
      "needs_background": "light"
     },
     "output_type": "display_data"
    }
   ],
   "source": [
    "q = np.geomspace(0.005, 0.3, 1001)\n",
    "\n",
    "plt.plot(q, model_dd(q), label=\"dd\")\n",
    "plt.plot(q, model_uu(q), label=\"uu\")\n",
    "plt.yscale('log')\n",
    "plt.xscale('log')\n",
    "plt.legend();"
   ]
  },
  {
   "cell_type": "code",
   "execution_count": 12,
   "id": "aaec7067",
   "metadata": {},
   "outputs": [],
   "source": [
    "objective_dd = Objective(model_dd, data_dd, \n",
    "                         auxiliary_params=(nuclear_Fe, mag_moment_Fe, angle))\n",
    "objective_uu = Objective(model_dd, data_dd, \n",
    "                         auxiliary_params=(nuclear_Fe, mag_moment_Fe, angle))\n",
    "\n",
    "global_objective = GlobalObjective([objective_dd, objective_uu])"
   ]
  },
  {
   "cell_type": "code",
   "execution_count": 13,
   "id": "49da0113",
   "metadata": {},
   "outputs": [
    {
     "ename": "ValueError",
     "evalue": "No parameters are being fitted",
     "output_type": "error",
     "traceback": [
      "\u001b[0;31m---------------------------------------------------------------------------\u001b[0m",
      "\u001b[0;31mValueError\u001b[0m                                Traceback (most recent call last)",
      "\u001b[0;32m/var/folders/m8/gwtcncws12jf60xw5n6knwnw0000gn/T/ipykernel_66474/2132098287.py\u001b[0m in \u001b[0;36m<module>\u001b[0;34m\u001b[0m\n\u001b[0;32m----> 1\u001b[0;31m \u001b[0mfitter\u001b[0m \u001b[0;34m=\u001b[0m \u001b[0mCurveFitter\u001b[0m\u001b[0;34m(\u001b[0m\u001b[0mglobal_objective\u001b[0m\u001b[0;34m)\u001b[0m\u001b[0;34m\u001b[0m\u001b[0;34m\u001b[0m\u001b[0m\n\u001b[0m",
      "\u001b[0;32m~/Documents/Andy/programming/refnx/refnx/analysis/curvefitter.py\u001b[0m in \u001b[0;36m__init__\u001b[0;34m(self, objective, nwalkers, ntemps, **mcmc_kws)\u001b[0m\n\u001b[1;32m    251\u001b[0m         \u001b[0mself\u001b[0m\u001b[0;34m.\u001b[0m\u001b[0m_nwalkers\u001b[0m \u001b[0;34m=\u001b[0m \u001b[0mnwalkers\u001b[0m\u001b[0;34m\u001b[0m\u001b[0;34m\u001b[0m\u001b[0m\n\u001b[1;32m    252\u001b[0m         \u001b[0mself\u001b[0m\u001b[0;34m.\u001b[0m\u001b[0m_ntemps\u001b[0m \u001b[0;34m=\u001b[0m \u001b[0mntemps\u001b[0m\u001b[0;34m\u001b[0m\u001b[0;34m\u001b[0m\u001b[0m\n\u001b[0;32m--> 253\u001b[0;31m         \u001b[0mself\u001b[0m\u001b[0;34m.\u001b[0m\u001b[0mmake_sampler\u001b[0m\u001b[0;34m(\u001b[0m\u001b[0;34m)\u001b[0m\u001b[0;34m\u001b[0m\u001b[0;34m\u001b[0m\u001b[0m\n\u001b[0m\u001b[1;32m    254\u001b[0m         \u001b[0mself\u001b[0m\u001b[0;34m.\u001b[0m\u001b[0m_state\u001b[0m \u001b[0;34m=\u001b[0m \u001b[0;32mNone\u001b[0m\u001b[0;34m\u001b[0m\u001b[0;34m\u001b[0m\u001b[0m\n\u001b[1;32m    255\u001b[0m \u001b[0;34m\u001b[0m\u001b[0m\n",
      "\u001b[0;32m~/Documents/Andy/programming/refnx/refnx/analysis/curvefitter.py\u001b[0m in \u001b[0;36mmake_sampler\u001b[0;34m(self)\u001b[0m\n\u001b[1;32m    291\u001b[0m \u001b[0;34m\u001b[0m\u001b[0m\n\u001b[1;32m    292\u001b[0m         \u001b[0;32mif\u001b[0m \u001b[0;32mnot\u001b[0m \u001b[0mself\u001b[0m\u001b[0;34m.\u001b[0m\u001b[0mnvary\u001b[0m\u001b[0;34m:\u001b[0m\u001b[0;34m\u001b[0m\u001b[0;34m\u001b[0m\u001b[0m\n\u001b[0;32m--> 293\u001b[0;31m             \u001b[0;32mraise\u001b[0m \u001b[0mValueError\u001b[0m\u001b[0;34m(\u001b[0m\u001b[0;34m\"No parameters are being fitted\"\u001b[0m\u001b[0;34m)\u001b[0m\u001b[0;34m\u001b[0m\u001b[0;34m\u001b[0m\u001b[0m\n\u001b[0m\u001b[1;32m    294\u001b[0m \u001b[0;34m\u001b[0m\u001b[0m\n\u001b[1;32m    295\u001b[0m         \u001b[0;32mif\u001b[0m \u001b[0mself\u001b[0m\u001b[0;34m.\u001b[0m\u001b[0m_ntemps\u001b[0m \u001b[0;34m==\u001b[0m \u001b[0;34m-\u001b[0m\u001b[0;36m1\u001b[0m\u001b[0;34m:\u001b[0m\u001b[0;34m\u001b[0m\u001b[0;34m\u001b[0m\u001b[0m\n",
      "\u001b[0;31mValueError\u001b[0m: No parameters are being fitted"
     ]
    }
   ],
   "source": [
    "fitter = CurveFitter(global_objective)"
   ]
  },
  {
   "cell_type": "code",
   "execution_count": null,
   "id": "b7676bec",
   "metadata": {},
   "outputs": [],
   "source": []
  }
 ],
 "metadata": {
  "kernelspec": {
   "display_name": "Python 3 (ipykernel)",
   "language": "python",
   "name": "python3"
  },
  "language_info": {
   "codemirror_mode": {
    "name": "ipython",
    "version": 3
   },
   "file_extension": ".py",
   "mimetype": "text/x-python",
   "name": "python",
   "nbconvert_exporter": "python",
   "pygments_lexer": "ipython3",
   "version": "3.8.10"
  }
 },
 "nbformat": 4,
 "nbformat_minor": 5
}
