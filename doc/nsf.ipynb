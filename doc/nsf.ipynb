{
 "cells": [
  {
   "cell_type": "markdown",
   "id": "8faef39e",
   "metadata": {},
   "source": [
    "# Analysing non-spinflip polarised NR data\n",
    "\n",
    "Currently (5/Aug/2021) `refnx` does not have the ability to fully analyse polarised neutron reflectometry data. However, it can be used to analyse the non-spinflip channels of a polarised neutron reflectometry measurement. Here we demonstrate how to do this using auxiliary `Parameter`. The datasets of interest have the structure:\n",
    "\n",
    "`Si | SiO2 | Permalloy | Au | 2-mercaptoethanol | D2O`"
   ]
  },
  {
   "cell_type": "code",
   "execution_count": 1,
   "id": "c7d349ad",
   "metadata": {},
   "outputs": [],
   "source": [
    "# some necessary imports\n",
    "import os.path\n",
    "%matplotlib inline\n",
    "import numpy as np\n",
    "import matplotlib.pyplot as plt\n",
    "\n",
    "import refnx\n",
    "from refnx.analysis import Parameter, Objective, CurveFitter, GlobalObjective\n",
    "from refnx.reflect import SLD, Slab, Structure, ReflectModel\n",
    "from refnx.dataset import Data1D\n",
    "from refnx._lib import flatten"
   ]
  },
  {
   "cell_type": "code",
   "execution_count": 2,
   "id": "f06c6737",
   "metadata": {},
   "outputs": [],
   "source": [
    "# create datasets from the NSF PNR data\n",
    "pth = os.path.dirname(refnx.__file__)\n",
    "dd = 'c_PLP0007882.dat'\n",
    "uu = 'c_PLP0007885.dat'\n",
    "\n",
    "file_path_uu = os.path.join(pth, 'reflect', 'test', uu)\n",
    "file_path_dd = os.path.join(pth, 'reflect', 'test', dd)\n",
    "\n",
    "data_uu = Data1D(file_path_uu)\n",
    "data_dd = Data1D(file_path_dd)"
   ]
  },
  {
   "cell_type": "code",
   "execution_count": 3,
   "id": "131aed72",
   "metadata": {},
   "outputs": [],
   "source": [
    "# create SLD (Scattering Length Density) objects for each of the materials\n",
    "si = SLD(2.07, name=\"Si\")\n",
    "sio2 = SLD(3.47, name=\"SiO2\")\n",
    "au = SLD(4.66, name=\"Au\")\n",
    "mercapto = SLD(3.49, name=\"2-mercaptoethanol\")\n",
    "d2o = SLD(6.35, name=\"d2o\")\n",
    "\n",
    "# to describe the Permalloy layer we're going to create parameters to describe the nuclear\n",
    "# and magnetic parts of the SLD. Instead of using the magnetic moment and angle we\n",
    "# could just use a magnetic SLD\n",
    "\n",
    "nuclear_py = Parameter(9.0, name=\"Py nuclear part\")\n",
    "mag_moment_py = Parameter(600, name=\"Py emu/cc\")\n",
    "angle = Parameter(0, name=\"angle\", bounds=(0, 90.))\n",
    "\n",
    "# Now create two SLD objects for the Permalloy layer, one for the UU channel, one for the DD channel.\n",
    "# don't worry that the SLD is set to zero to start with\n",
    "\n",
    "py_dd = SLD(0.0, name=\"Py DD SLD\")\n",
    "py_uu = SLD(0.0, name=\"Py UU SLD\")\n",
    "\n",
    "# Now we make constraints for the SLD objects. Each SLD object has two parameters,\n",
    "# SLD.real and SLD.imag. The conversion factor of 2.85e-3 converts the magnetic moment\n",
    "# from emu/cc to 10**-6 Å**-2\n",
    "py_dd.real.constraint = nuclear_py - mag_moment_py * 2.85e-3 * np.cos(angle*np.pi/180)\n",
    "py_uu.real.constraint = nuclear_py + mag_moment_py * 2.85e-3 * np.cos(angle*np.pi/180)"
   ]
  },
  {
   "cell_type": "code",
   "execution_count": 4,
   "id": "5a4b88bb",
   "metadata": {},
   "outputs": [
    {
     "data": {
      "text/plain": [
       "((7.29+0j), (10.71+0j))"
      ]
     },
     "execution_count": 4,
     "metadata": {},
     "output_type": "execute_result"
    }
   ],
   "source": [
    "# let's check on the SLDs. Observe that the SLDs obey the constraints\n",
    "\n",
    "complex(py_dd), complex(py_uu)"
   ]
  },
  {
   "cell_type": "code",
   "execution_count": 5,
   "id": "93678e27",
   "metadata": {},
   "outputs": [
    {
     "data": {
      "text/plain": [
       "((7.005+0j), (10.995000000000001+0j))"
      ]
     },
     "execution_count": 5,
     "metadata": {},
     "output_type": "execute_result"
    }
   ],
   "source": [
    "# let's try altering the magnetic part and see if the values are updated in the SLDs.\n",
    "# `magnetic_Fe` is a Parameter, and Parameter values are modified like this:\n",
    "\n",
    "mag_moment_py.value = 700\n",
    "\n",
    "# note how both the SLD objects are updated.\n",
    "\n",
    "complex(py_dd), complex(py_uu)"
   ]
  },
  {
   "cell_type": "code",
   "execution_count": 6,
   "id": "d28c798d",
   "metadata": {},
   "outputs": [],
   "source": [
    "# Now make Slabs that describe each layer. These can either be made from SLD objects,\n",
    "# or by using the `Slab` constructor directly.\n",
    "\n",
    "# sio2 slab has a thickness of 20 and roughness of 4 with the Si fronting medium\n",
    "sio2_l = sio2(20, 4)\n",
    "\n",
    "au_l = au(215, 4)\n",
    "mercapto_l = mercapto(8, 4)\n",
    "d2o_l = d2o(0, 4)\n",
    "\n",
    "# now make the Fe layers for each of the spin channels. Note that we create\n",
    "# Parameter for the thickness and roughness which will be shared over both spin channels.\n",
    "\n",
    "py_thickness = Parameter(50, name=\"Py thickness\")\n",
    "py_roughness = Parameter(5, name=\"Py roughness\")\n",
    "\n",
    "py_dd_l = Slab(py_thickness, py_dd, py_roughness, name=\"Py dd slab\")\n",
    "py_uu_l = Slab(py_thickness, py_uu, py_roughness, name=\"Py uu slab\")"
   ]
  },
  {
   "cell_type": "code",
   "execution_count": 7,
   "id": "f18b1435",
   "metadata": {},
   "outputs": [],
   "source": [
    "# now we make structures for each of the spin channels\n",
    "# note that we use the same `sio2_l` for each of the structures. This\n",
    "# will share the same sio2 thickness and roughness in the structures\n",
    "# and will reduce parameter numbers in a fit\n",
    "\n",
    "s_dd = si | sio2_l | py_dd_l | au_l | mercapto_l | d2o_l\n",
    "s_uu = si | sio2_l | py_uu_l | au_l | mercapto_l | d2o_l"
   ]
  },
  {
   "cell_type": "code",
   "execution_count": 8,
   "id": "b0454b46",
   "metadata": {},
   "outputs": [
    {
     "name": "stdout",
     "output_type": "stream",
     "text": [
      "30 30\n",
      "36\n"
     ]
    }
   ],
   "source": [
    "# The total number of parameters is reduced by sharing Parameter/SLD/Slab objects\n",
    "# over the two structures.\n",
    "\n",
    "# what are the number of parameters in each of the structures?\n",
    "print(len(list(flatten(s_dd.parameters))), len(list(flatten(s_uu.parameters))))\n",
    "\n",
    "# now what are the number of unique parameters in both parameter sets?\n",
    "combined_set = set(flatten(s_dd.parameters)).union(set(flatten(s_uu.parameters)))\n",
    "print(len(combined_set))\n",
    "\n",
    "# this shows that the unique number of parameters over both datasets is 36, reduced from 60.\n",
    "# i.e. there are parameters that are joint over both datasets"
   ]
  },
  {
   "cell_type": "code",
   "execution_count": 9,
   "id": "9fe3999a",
   "metadata": {},
   "outputs": [],
   "source": [
    "# now place the Structures into a ReflectModel. ReflectModel applies resolution smearing, etc.\n",
    "\n",
    "model_dd = ReflectModel(s_dd)\n",
    "model_uu = ReflectModel(s_uu)"
   ]
  },
  {
   "cell_type": "code",
   "execution_count": 10,
   "id": "aaec7067",
   "metadata": {},
   "outputs": [],
   "source": [
    "objective_dd = Objective(model_dd, data_dd, \n",
    "                         auxiliary_params=(nuclear_py, mag_moment_py, angle))\n",
    "objective_uu = Objective(model_uu, data_uu, \n",
    "                         auxiliary_params=(nuclear_py, mag_moment_py, angle))\n",
    "\n",
    "global_objective = GlobalObjective([objective_dd, objective_uu])"
   ]
  },
  {
   "cell_type": "code",
   "execution_count": 11,
   "id": "9eb96e15",
   "metadata": {},
   "outputs": [
    {
     "data": {
      "image/png": "[encoded data removed]",
      "text/plain": [
       "<Figure size 432x288 with 1 Axes>"
      ]
     },
     "metadata": {
      "needs_background": "light"
     },
     "output_type": "display_data"
    }
   ],
   "source": [
    "fig, ax = plt.subplots()\n",
    "plt.scatter(data_dd.x, data_dd.y, label=\"dd\", s=4)\n",
    "plt.plot(data_dd.x, objective_dd.generative())\n",
    "\n",
    "plt.scatter(data_uu.x, data_uu.y, label=\"uu\", s=4)\n",
    "plt.plot(data_uu.x, objective_uu.generative())\n",
    "\n",
    "plt.ylabel(\"R\")\n",
    "plt.xlabel(\"Q / $\\AA^{-1}$\")\n",
    "plt.yscale('log')\n",
    "plt.legend();"
   ]
  },
  {
   "cell_type": "code",
   "execution_count": 12,
   "id": "40bc9afe",
   "metadata": {},
   "outputs": [
    {
     "data": {
      "image/png": "[encoded data removed]",
      "text/plain": [
       "<Figure size 432x288 with 1 Axes>"
      ]
     },
     "metadata": {
      "needs_background": "light"
     },
     "output_type": "display_data"
    }
   ],
   "source": [
    "plt.plot(*s_dd.sld_profile(), label='dd')\n",
    "plt.plot(*s_uu.sld_profile(), label=\"uu\")\n",
    "plt.ylabel(\"SLD\")\n",
    "plt.xlabel(\"z / $\\AA$\")\n",
    "plt.legend();"
   ]
  },
  {
   "cell_type": "code",
   "execution_count": 13,
   "id": "2142473a",
   "metadata": {},
   "outputs": [],
   "source": [
    "# select the parameters to be fitted and their bounds\n",
    "model_uu.scale.setp(vary=True, bounds=(0.9, 1.1))\n",
    "model_uu.bkg.setp(vary=True, bounds=(1e-7, 5e-6))\n",
    "model_dd.scale.setp(vary=True, bounds=(0.9, 1.1))\n",
    "model_dd.bkg.setp(vary=True, bounds=(1e-7, 5e-6))\n",
    "\n",
    "sio2_l.thick.setp(vary=True, bounds=(10, 25))\n",
    "sio2_l.rough.setp(vary=True, bounds=(1, 8))\n",
    "\n",
    "py_thickness.setp(vary=True, bounds=(38, 55))\n",
    "py_roughness.setp(vary=True, bounds=(1, 8))\n",
    "nuclear_py.setp(vary=True, bounds=(8.5, 9.5))\n",
    "mag_moment_py.setp(vary=True, bounds=(500, 800))\n",
    "\n",
    "au_l.thick.setp(vary=True, bounds=(200, 240))\n",
    "au_l.rough.setp(vary=True, bounds=(1, 8))\n",
    "au.real.setp(vary=True, bounds=(4.5, 4.66))\n",
    "\n",
    "mercapto_l.thick.setp(vary=True, bounds=(5, 15))\n",
    "mercapto_l.rough.setp(vary=True, bounds=(1, 8))\n",
    "mercapto.real.setp(vary=True, bounds=(3, 4))\n",
    "\n",
    "d2o_l.rough.setp(vary=True, bounds=(1, 8))\n",
    "d2o.real.setp(vary=True, bounds=(6.2, 6.36))"
   ]
  },
  {
   "cell_type": "code",
   "execution_count": 14,
   "id": "49da0113",
   "metadata": {},
   "outputs": [],
   "source": [
    "fitter = CurveFitter(global_objective)"
   ]
  },
  {
   "cell_type": "code",
   "execution_count": 15,
   "id": "b7676bec",
   "metadata": {},
   "outputs": [
    {
     "name": "stderr",
     "output_type": "stream",
     "text": [
      "77it [00:51,  1.51it/s]\n"
     ]
    }
   ],
   "source": [
    "fitter.fit('differential_evolution', seed=1);"
   ]
  },
  {
   "cell_type": "code",
   "execution_count": 16,
   "id": "22e8f804",
   "metadata": {},
   "outputs": [
    {
     "data": {
      "image/png": "[encoded data removed]",
      "text/plain": [
       "<Figure size 432x288 with 1 Axes>"
      ]
     },
     "metadata": {
      "needs_background": "light"
     },
     "output_type": "display_data"
    }
   ],
   "source": [
    "fig, ax = plt.subplots()\n",
    "plt.scatter(data_dd.x, data_dd.y, label=\"dd\", s=4)\n",
    "plt.plot(data_dd.x, objective_dd.generative())\n",
    "\n",
    "plt.scatter(data_uu.x, data_uu.y, label=\"uu\", s=4)\n",
    "plt.plot(data_uu.x, objective_uu.generative())\n",
    "\n",
    "plt.ylabel(\"R\")\n",
    "plt.xlabel(\"Q / $\\AA^{-1}$\")\n",
    "plt.yscale('log')\n",
    "plt.legend();"
   ]
  },
  {
   "cell_type": "code",
   "execution_count": 17,
   "id": "2858d05d",
   "metadata": {},
   "outputs": [
    {
     "data": {
      "image/png": "[encoded data removed]",
      "text/plain": [
       "<Figure size 432x288 with 1 Axes>"
      ]
     },
     "metadata": {
      "needs_background": "light"
     },
     "output_type": "display_data"
    }
   ],
   "source": [
    "plt.plot(*s_dd.sld_profile(), label='dd')\n",
    "plt.plot(*s_uu.sld_profile(), label=\"uu\")\n",
    "plt.ylabel(\"SLD\")\n",
    "plt.xlabel(\"z / $\\AA$\")\n",
    "plt.legend();"
   ]
  },
  {
   "cell_type": "markdown",
   "id": "b4730494",
   "metadata": {},
   "source": [
    "By printing out the objectives we can see what the parameters are. Here we see that the Permalloy magnetic moment is 615 emu/cc, with a nuclear SLD of $9.15\\times10^{-6}Å^{-2}$"
   ]
  },
  {
   "cell_type": "code",
   "execution_count": 18,
   "id": "c206bbbb",
   "metadata": {},
   "outputs": [
    {
     "name": "stdout",
     "output_type": "stream",
     "text": [
      "________________________________________________________________________________\n",
      "Objective - 140698445453824\n",
      "Dataset = c_PLP0007882\n",
      "datapoints = 94\n",
      "chi2 = 301.3613165434196\n",
      "Weighted = True\n",
      "Transform = None\n",
      "________________________________________________________________________________\n",
      "Parameters:      None      \n",
      "<Parameter:'Py nuclear part', value=9.14537 +/- 0.0239, bounds=[8.5, 9.5]>\n",
      "<Parameter:  'Py emu/cc'  , value=614.615 +/- 4.88 , bounds=[500.0, 800.0]>\n",
      "<Parameter:    'angle'    , value=0 (fixed)  , bounds=[0.0, 90.0]>\n",
      "________________________________________________________________________________\n",
      "Parameters:       ''       \n",
      "________________________________________________________________________________\n",
      "Parameters: 'instrument parameters'\n",
      "<Parameter:    'scale'    , value=0.995443 +/- 0.00293, bounds=[0.9, 1.1]>\n",
      "<Parameter:     'bkg'     , value=1.47825e-06 +/- 1.9e-07, bounds=[1e-07, 5e-06]>\n",
      "<Parameter:'dq - resolution', value=5 (fixed)  , bounds=[-inf, inf]>\n",
      "<Parameter:  'q_offset'   , value=0 (fixed)  , bounds=[-inf, inf]>\n",
      "________________________________________________________________________________\n",
      "Parameters: 'Structure - ' \n",
      "________________________________________________________________________________\n",
      "Parameters:      'Si'      \n",
      "<Parameter: 'Si - thick'  , value=0 (fixed)  , bounds=[-inf, inf]>\n",
      "<Parameter:  'Si - sld'   , value=2.07 (fixed)  , bounds=[-inf, inf]>\n",
      "<Parameter:  'Si - isld'  , value=0 (fixed)  , bounds=[-inf, inf]>\n",
      "<Parameter: 'Si - rough'  , value=0 (fixed)  , bounds=[-inf, inf]>\n",
      "<Parameter:'Si - volfrac solvent', value=0 (fixed)  , bounds=[0.0, 1.0]>\n",
      "________________________________________________________________________________\n",
      "Parameters:     'SiO2'     \n",
      "<Parameter:'SiO2 - thick' , value=17.1657 +/- 0.723, bounds=[10.0, 25.0]>\n",
      "<Parameter: 'SiO2 - sld'  , value=3.47 (fixed)  , bounds=[-inf, inf]>\n",
      "<Parameter: 'SiO2 - isld' , value=0 (fixed)  , bounds=[-inf, inf]>\n",
      "<Parameter:'SiO2 - rough' , value=5.79942 +/- 1.54 , bounds=[1.0, 8.0]>\n",
      "<Parameter:'SiO2 - volfrac solvent', value=0 (fixed)  , bounds=[0.0, 1.0]>\n",
      "________________________________________________________________________________\n",
      "Parameters:  'Py dd slab'  \n",
      "<Parameter:'Py thickness' , value=43.7966 +/- 0.138, bounds=[38.0, 55.0]>\n",
      "<Parameter:'Py DD SLD - sld', value=7.39371          , bounds=[-inf, inf], constraint=<Parameter:     None      , value=7.39371 (fixed)  , bounds=None>>\n",
      "<Parameter:'Py DD SLD - isld', value=0 (fixed)  , bounds=[-inf, inf]>\n",
      "<Parameter:'Py roughness' , value=3.81817 +/- 0.542, bounds=[1.0, 8.0]>\n",
      "<Parameter:'Py dd slab - volfrac solvent', value=0 (fixed)  , bounds=[0.0, 1.0]>\n",
      "________________________________________________________________________________\n",
      "Parameters:      'Au'      \n",
      "<Parameter: 'Au - thick'  , value=209.656 +/- 34.5 , bounds=[200.0, 240.0]>\n",
      "<Parameter:  'Au - sld'   , value=4.5 +/- 0.00966, bounds=[4.5, 4.66]>\n",
      "<Parameter:  'Au - isld'  , value=0 (fixed)  , bounds=[-inf, inf]>\n",
      "<Parameter: 'Au - rough'  , value=4.88107 +/- 0.29 , bounds=[1.0, 8.0]>\n",
      "<Parameter:'Au - volfrac solvent', value=0 (fixed)  , bounds=[0.0, 1.0]>\n",
      "________________________________________________________________________________\n",
      "Parameters: '2-mercaptoethanol'\n",
      "<Parameter:'2-mercaptoethanol - thick', value=13.8574 +/- 54.2 , bounds=[5.0, 15.0]>\n",
      "<Parameter:'2-mercaptoethanol - sld', value=3.26745 +/- 7.36 , bounds=[3.0, 4.0]>\n",
      "<Parameter:'2-mercaptoethanol - isld', value=0 (fixed)  , bounds=[-inf, inf]>\n",
      "<Parameter:'2-mercaptoethanol - rough', value=5.62675 +/- 14.8 , bounds=[1.0, 8.0]>\n",
      "<Parameter:'2-mercaptoethanol - volfrac solvent', value=0 (fixed)  , bounds=[0.0, 1.0]>\n",
      "________________________________________________________________________________\n",
      "Parameters:      'd2o'     \n",
      "<Parameter: 'd2o - thick' , value=0 (fixed)  , bounds=[-inf, inf]>\n",
      "<Parameter:  'd2o - sld'  , value=6.24009 +/- 0.000567, bounds=[6.2, 6.36]>\n",
      "<Parameter: 'd2o - isld'  , value=0 (fixed)  , bounds=[-inf, inf]>\n",
      "<Parameter: 'd2o - rough' , value=6.75234 +/- 8.35 , bounds=[1.0, 8.0]>\n",
      "<Parameter:'d2o - volfrac solvent', value=0 (fixed)  , bounds=[0.0, 1.0]>\n"
     ]
    }
   ],
   "source": [
    "print(objective_dd)"
   ]
  },
  {
   "cell_type": "code",
   "execution_count": null,
   "id": "67844b6d",
   "metadata": {},
   "outputs": [],
   "source": []
  }
 ],
 "metadata": {
  "kernelspec": {
   "display_name": "Python 3 (ipykernel)",
   "language": "python",
   "name": "python3"
  },
  "language_info": {
   "codemirror_mode": {
    "name": "ipython",
    "version": 3
   },
   "file_extension": ".py",
   "mimetype": "text/x-python",
   "name": "python",
   "nbconvert_exporter": "python",
   "pygments_lexer": "ipython3",
   "version": "3.8.10"
  }
 },
 "nbformat": 4,
 "nbformat_minor": 5
}
