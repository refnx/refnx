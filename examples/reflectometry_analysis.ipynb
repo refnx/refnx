{
 "cells": [
  {
   "cell_type": "code",
   "execution_count": null,
   "metadata": {
    "collapsed": true
   },
   "outputs": [],
   "source": [
    "%matplotlib inline\n",
    "from __future__ import print_function, division\n",
    "\n",
    "import numpy as np\n",
    "import matplotlib.pyplot as plt\n",
    "import corner\n",
    "\n",
    "from refnx.dataset import ReflectDataset\n",
    "from refnx.analysis import Transform, CurveFitter, Objective\n",
    "from refnx.reflect import SLD, Slab, ReflectModel"
   ]
  },
  {
   "cell_type": "code",
   "execution_count": null,
   "metadata": {},
   "outputs": [],
   "source": [
    "# what is the refnx version\n",
    "import refnx\n",
    "print(refnx.version.version)"
   ]
  },
  {
   "cell_type": "code",
   "execution_count": null,
   "metadata": {
    "collapsed": true
   },
   "outputs": [],
   "source": [
    "DATASET_NAME = 'c_PLP0011859_q.txt'\n",
    "USE_DIFFERENTIAL_EVOLUTION = True\n",
    "\n",
    "# load the data\n",
    "data = ReflectDataset(DATASET_NAME)"
   ]
  },
  {
   "cell_type": "code",
   "execution_count": null,
   "metadata": {
    "collapsed": true
   },
   "outputs": [],
   "source": [
    "si = SLD(2.07, name='Si')\n",
    "sio2 = SLD(3.47, name='SiO2')\n",
    "film = SLD(2.0, name='film')\n",
    "d2o = SLD(6.36, name='d2o')\n",
    "\n",
    "sio2_layer = sio2(30, 3)\n",
    "sio2_layer.thick.setp(bounds=(15, 50), vary=True)\n",
    "sio2_layer.rough.setp(bounds=(1, 15), vary=True)\n",
    "\n",
    "film_layer = film(250, 3)\n",
    "film_layer.thick.setp(bounds=(200, 300), vary=True)\n",
    "film_layer.sld.real.setp(bounds=(0.1, 3), vary=True)\n",
    "film_layer.rough.setp(bounds=(1, 15), vary=True)\n",
    "\n",
    "d2o_layer = d2o(0, 3)\n",
    "d2o_layer.rough.setp(vary=True, bounds=(1, 15))\n",
    "\n",
    "structure = si | sio2_layer | film_layer | d2o_layer"
   ]
  },
  {
   "cell_type": "code",
   "execution_count": null,
   "metadata": {
    "collapsed": true
   },
   "outputs": [],
   "source": [
    "model = ReflectModel(structure, bkg=3e-6)\n",
    "model.scale.setp(bounds=(0.6, 1.2), vary=True)\n",
    "model.bkg.setp(bounds=(1e-9, 9e-6), vary=True)"
   ]
  },
  {
   "cell_type": "code",
   "execution_count": null,
   "metadata": {
    "collapsed": true
   },
   "outputs": [],
   "source": [
    "objective = Objective(model, data, transform=Transform('logY'))"
   ]
  },
  {
   "cell_type": "code",
   "execution_count": null,
   "metadata": {},
   "outputs": [],
   "source": [
    "fitter = CurveFitter(objective, nwalkers=100)\n",
    "\n",
    "# do the fit\n",
    "%time res = fitter.fit('differential_evolution')"
   ]
  },
  {
   "cell_type": "code",
   "execution_count": null,
   "metadata": {},
   "outputs": [],
   "source": [
    "plt.scatter(data.x, data.y, label=DATASET_NAME)\n",
    "plt.plot(data.x, model(data.x, x_err=data.x_err), color='r', label='fit')\n",
    "plt.xlim(np.min(data.x), np.max(data.x))\n",
    "plt.xlabel('Q')\n",
    "plt.ylabel('logR')\n",
    "plt.legend()\n",
    "plt.yscale('log')"
   ]
  },
  {
   "cell_type": "code",
   "execution_count": null,
   "metadata": {},
   "outputs": [],
   "source": [
    "plt.plot(*structure.sld_profile())\n",
    "\n",
    "print(objective)"
   ]
  },
  {
   "cell_type": "code",
   "execution_count": null,
   "metadata": {},
   "outputs": [],
   "source": [
    "fitter.sample(400)\n",
    "fitter.sampler.reset()\n",
    "%time res = fitter.sample(1000, nthin=10, pool=4)"
   ]
  },
  {
   "cell_type": "markdown",
   "metadata": {},
   "source": [
    "This MCMC sampling gives a total of (1000 - 400) * 100 / 10 = 6000 samples."
   ]
  },
  {
   "cell_type": "code",
   "execution_count": null,
   "metadata": {},
   "outputs": [],
   "source": [
    "print(objective)"
   ]
  },
  {
   "cell_type": "code",
   "execution_count": null,
   "metadata": {},
   "outputs": [],
   "source": [
    "a = corner.corner(fitter.sampler.flatchain)"
   ]
  },
  {
   "cell_type": "code",
   "execution_count": null,
   "metadata": {},
   "outputs": [],
   "source": [
    "# plot a random selection of fits from a subset of the samples.\n",
    "\n",
    "plt.scatter(data.x, data.y)\n",
    "\n",
    "# the median fit\n",
    "saved_params = np.array(objective.parameters)\n",
    "plt.plot(data.x, model(data.x, x_err=data.x_err), color='r')\n",
    "\n",
    "# Get 500 vectors, chosen randomly, set the objective, and plot the model.\n",
    "for pvec in objective.pgen(ngen=500):\n",
    "    objective.setp(pvec)\n",
    "    plt.plot(data.x, model(data.x, x_err=data.x_err), color=\"k\", alpha=0.01)\n",
    "    \n",
    "# put back saved_params\n",
    "objective.setp(saved_params)\n",
    "\n",
    "plt.ylim(np.min(data.y), np.max(data.y))\n",
    "plt.xlim(np.min(data.x), np.max(data.x))\n",
    "plt.yscale('log')"
   ]
  },
  {
   "cell_type": "code",
   "execution_count": null,
   "metadata": {},
   "outputs": [],
   "source": [
    "saved_params = np.array(objective.parameters)\n",
    "\n",
    "z, true_sld = structure.sld_profile()\n",
    "\n",
    "for pvec in objective.pgen(ngen=500):\n",
    "    objective.setp(pvec)\n",
    "    zs, sld = structure.sld_profile()\n",
    "    plt.plot(zs, sld, color='k', alpha=0.05)\n",
    "\n",
    "# put back saved_params\n",
    "objective.setp(saved_params)\n",
    "\n",
    "plt.plot(z, true_sld, lw=1, color='r')\n",
    "plt.ylim(2.2, 6)"
   ]
  }
 ],
 "metadata": {
  "kernelspec": {
   "display_name": "Python 3",
   "language": "python",
   "name": "python3"
  },
  "language_info": {
   "codemirror_mode": {
    "name": "ipython",
    "version": 3
   },
   "file_extension": ".py",
   "mimetype": "text/x-python",
   "name": "python",
   "nbconvert_exporter": "python",
   "pygments_lexer": "ipython3",
   "version": "3.6.1"
  }
 },
 "nbformat": 4,
 "nbformat_minor": 1
}
