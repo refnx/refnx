{
 "cells": [
  {
   "cell_type": "markdown",
   "metadata": {},
   "source": [
    "This notebook demonstrates how to do co-refinement of several datasets with *refnx*"
   ]
  },
  {
   "cell_type": "code",
   "execution_count": null,
   "metadata": {
    "collapsed": true
   },
   "outputs": [],
   "source": [
    "%matplotlib inline\n",
    "from __future__ import print_function, division\n",
    "\n",
    "from refnx.dataset import ReflectDataset\n",
    "from refnx.analysis import Transform, CurveFitter, Objective, GlobalObjective, Parameter\n",
    "from refnx.reflect import SLD, ReflectModel\n",
    "\n",
    "import corner\n",
    "import numpy as np\n",
    "import matplotlib.pyplot as plt"
   ]
  },
  {
   "cell_type": "code",
   "execution_count": null,
   "metadata": {},
   "outputs": [],
   "source": [
    "# load the data\n",
    "e361 = ReflectDataset('e361r.txt')\n",
    "e365 = ReflectDataset('e365r.txt')\n",
    "e366 = ReflectDataset('e366r.txt')"
   ]
  },
  {
   "cell_type": "code",
   "execution_count": null,
   "metadata": {
    "collapsed": true
   },
   "outputs": [],
   "source": [
    "si = SLD(2.07, 'Si')\n",
    "sio2 = SLD(3.47, 'SiO2')\n",
    "polymer = SLD(2.0, 'polymer')\n",
    "d2o = SLD(6.36, 'D2O')\n",
    "h2o = SLD(-0.56, 'H2O')\n",
    "cm3 = SLD(3.5, 'cm3.5')\n",
    "\n",
    "sio2_l = sio2(30, 3)\n",
    "sio2_l.thick.setp(vary=True, bounds=(1, 50))\n",
    "\n",
    "# Each contrast uses the same polymer SLD. We account for contrast change\n",
    "# using the volume fraction of solvent.\n",
    "polymer_l = polymer(250, 3)\n",
    "polymer_l.thick.setp(vary=True, bounds=(200, 300))\n",
    "polymer_l.sld.real.setp(vary=True, bounds=(0.1, 2))\n",
    "polymer_l.vfsolv.setp(vary=True, bounds=(0, 1))\n",
    "\n",
    "# we're going to share the water/polymer roughness across all 3 datasets\n",
    "water_poly_rough = Parameter(3, 'water_poly_rough')\n",
    "d2o_l = d2o(0, water_poly_rough)\n",
    "h2o_l = h2o(0, water_poly_rough)\n",
    "cm3_l = cm3(0, water_poly_rough)"
   ]
  },
  {
   "cell_type": "code",
   "execution_count": null,
   "metadata": {
    "collapsed": true
   },
   "outputs": [],
   "source": [
    "structure361 = si | sio2_l | polymer_l | d2o_l\n",
    "structure365 = si | sio2_l | polymer_l | cm3_l\n",
    "structure366 = si | sio2_l | polymer_l | h2o_l"
   ]
  },
  {
   "cell_type": "code",
   "execution_count": null,
   "metadata": {
    "collapsed": true
   },
   "outputs": [],
   "source": [
    "model361 = ReflectModel(structure361)\n",
    "model365 = ReflectModel(structure365)\n",
    "model366 = ReflectModel(structure366)\n",
    "\n",
    "model361.scale.setp(vary=True, bounds=(0.9, 1.1))\n",
    "model361.bkg.setp(vary=True, bounds=(0.9e-8, 3e-5))\n",
    "model365.scale.setp(vary=True, bounds=(0.9, 1.1))\n",
    "model365.bkg.setp(vary=True, bounds=(0.9e-8, 3e-5))\n",
    "model366.bkg.setp(vary=True, bounds=(0.9e-8, 3e-5))"
   ]
  },
  {
   "cell_type": "code",
   "execution_count": null,
   "metadata": {
    "collapsed": true
   },
   "outputs": [],
   "source": [
    "objective361 = Objective(model361, e361, transform=Transform('logY'))\n",
    "objective365 = Objective(model365, e365, transform=Transform('logY'))\n",
    "objective366 = Objective(model366, e366, transform=Transform('logY'))\n",
    "\n",
    "global_objective = GlobalObjective([objective361, objective365, objective366])"
   ]
  },
  {
   "cell_type": "code",
   "execution_count": null,
   "metadata": {
    "collapsed": true
   },
   "outputs": [],
   "source": [
    "# create the fit instance\n",
    "fitter = CurveFitter(global_objective, threads=4, nwalkers=100)\n",
    "\n",
    "res = fitter.fit('differential_evolution')"
   ]
  },
  {
   "cell_type": "code",
   "execution_count": null,
   "metadata": {},
   "outputs": [],
   "source": [
    "plt.scatter(e361.x, e361.y, label='e361', color='r')\n",
    "plt.scatter(e365.x, e365.y, label='e365', color='g')\n",
    "plt.scatter(e366.x, e366.y, label='e366', color='b')\n",
    "\n",
    "plt.plot(e361.x, model361(e361.x, x_err=e361.x_err), label='fit')\n",
    "plt.plot(e365.x, model365(e365.x, x_err=e365.x_err), label='fit')\n",
    "plt.plot(e366.x, model366(e366.x, x_err=e366.x_err), label='fit')\n",
    "\n",
    "plt.ylim(np.min(e361.y), 0.1)\n",
    "plt.xlim(0.005, np.max(e361.x))\n",
    "plt.xlabel('Q')\n",
    "plt.yscale('log')\n",
    "plt.ylabel('logR')\n",
    "plt.legend()"
   ]
  },
  {
   "cell_type": "code",
   "execution_count": null,
   "metadata": {},
   "outputs": [],
   "source": [
    "print(global_objective)"
   ]
  },
  {
   "cell_type": "code",
   "execution_count": null,
   "metadata": {},
   "outputs": [],
   "source": [
    "fitter.sample(50)\n",
    "fitter.sampler.reset()\n",
    "res = fitter.sample(1000, nthin=1)"
   ]
  },
  {
   "cell_type": "code",
   "execution_count": null,
   "metadata": {},
   "outputs": [],
   "source": [
    "a = corner.corner(fitter.sampler.flatchain)"
   ]
  },
  {
   "cell_type": "code",
   "execution_count": null,
   "metadata": {},
   "outputs": [],
   "source": [
    "print(global_objective)"
   ]
  },
  {
   "cell_type": "code",
   "execution_count": null,
   "metadata": {
    "collapsed": true
   },
   "outputs": [],
   "source": []
  }
 ],
 "metadata": {
  "kernelspec": {
   "display_name": "Python 3",
   "language": "python",
   "name": "python3"
  },
  "language_info": {
   "codemirror_mode": {
    "name": "ipython",
    "version": 3
   },
   "file_extension": ".py",
   "mimetype": "text/x-python",
   "name": "python",
   "nbconvert_exporter": "python",
   "pygments_lexer": "ipython3",
   "version": "3.6.1"
  }
 },
 "nbformat": 4,
 "nbformat_minor": 1
}
