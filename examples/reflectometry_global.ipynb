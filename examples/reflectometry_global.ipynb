{
 "cells": [
  {
   "cell_type": "markdown",
   "metadata": {},
   "source": [
    "This notebook demonstrates how to do co-refinement of several datasets with *refnx*"
   ]
  },
  {
   "cell_type": "code",
   "execution_count": null,
   "metadata": {},
   "outputs": [],
   "source": [
    "%matplotlib inline\n",
    "from __future__ import print_function, division\n",
    "\n",
    "import os.path\n",
    "\n",
    "from refnx.dataset import ReflectDataset\n",
    "from refnx.analysis import Transform, CurveFitter, Objective, GlobalObjective, Parameter\n",
    "from refnx.reflect import SLD, ReflectModel\n",
    "\n",
    "import corner\n",
    "import numpy as np\n",
    "import matplotlib.pyplot as plt"
   ]
  },
  {
   "cell_type": "code",
   "execution_count": null,
   "metadata": {},
   "outputs": [],
   "source": [
    "# what is the refnx version\n",
    "# it's import to record this for reproducing the analysis\n",
    "import refnx\n",
    "print(refnx.version.version)"
   ]
  },
  {
   "cell_type": "code",
   "execution_count": null,
   "metadata": {},
   "outputs": [],
   "source": [
    "# these are datasets used in refnx testing, distributed with every refnx install\n",
    "pth = os.path.dirname(refnx.__file__)\n",
    "\n",
    "# load the data\n",
    "e361 = ReflectDataset(os.path.join(pth, 'analysis/test/', 'e361r.txt'))\n",
    "e365 = ReflectDataset(os.path.join(pth, 'analysis/test/', 'e365r.txt'))\n",
    "e366 = ReflectDataset(os.path.join(pth, 'analysis/test/', 'e366r.txt'))"
   ]
  },
  {
   "cell_type": "code",
   "execution_count": null,
   "metadata": {},
   "outputs": [],
   "source": [
    "si = SLD(2.07, 'Si')\n",
    "sio2 = SLD(3.47, 'SiO2')\n",
    "polymer = SLD(2.0, 'polymer')\n",
    "d2o = SLD(6.36, 'D2O')\n",
    "h2o = SLD(-0.56, 'H2O')\n",
    "cm3 = SLD(3.5, 'cm3.5')\n",
    "\n",
    "sio2_l = sio2(30, 3)\n",
    "sio2_l.thick.setp(vary=True, bounds=(1, 50))\n",
    "\n",
    "# Each contrast uses the same polymer SLD. We account for contrast change\n",
    "# using the volume fraction of solvent.\n",
    "polymer_l = polymer(250, 3)\n",
    "polymer_l.thick.setp(vary=True, bounds=(200, 300))\n",
    "polymer_l.sld.real.setp(vary=True, bounds=(0.1, 2))\n",
    "polymer_l.vfsolv.setp(vary=True, bounds=(0, 1))\n",
    "\n",
    "# we're going to share the water/polymer roughness across all 3 datasets\n",
    "water_poly_rough = Parameter(3, 'water_poly_rough')\n",
    "d2o_l = d2o(0, water_poly_rough)\n",
    "h2o_l = h2o(0, water_poly_rough)\n",
    "cm3_l = cm3(0, water_poly_rough)"
   ]
  },
  {
   "cell_type": "code",
   "execution_count": null,
   "metadata": {},
   "outputs": [],
   "source": [
    "structure361 = si | sio2_l | polymer_l | d2o_l\n",
    "structure365 = si | sio2_l | polymer_l | cm3_l\n",
    "structure366 = si | sio2_l | polymer_l | h2o_l"
   ]
  },
  {
   "cell_type": "code",
   "execution_count": null,
   "metadata": {},
   "outputs": [],
   "source": [
    "model361 = ReflectModel(structure361)\n",
    "model365 = ReflectModel(structure365)\n",
    "model366 = ReflectModel(structure366)\n",
    "\n",
    "model361.scale.setp(vary=True, bounds=(0.9, 1.1))\n",
    "model361.bkg.setp(vary=True, bounds=(0.9e-8, 3e-5))\n",
    "model365.scale.setp(vary=True, bounds=(0.9, 1.1))\n",
    "model365.bkg.setp(vary=True, bounds=(0.9e-8, 3e-5))\n",
    "model366.bkg.setp(vary=True, bounds=(0.9e-8, 3e-5))"
   ]
  },
  {
   "cell_type": "code",
   "execution_count": null,
   "metadata": {},
   "outputs": [],
   "source": [
    "objective361 = Objective(model361, e361, transform=Transform('logY'))\n",
    "objective365 = Objective(model365, e365, transform=Transform('logY'))\n",
    "objective366 = Objective(model366, e366, transform=Transform('logY'))\n",
    "\n",
    "global_objective = GlobalObjective([objective361, objective365, objective366])"
   ]
  },
  {
   "cell_type": "code",
   "execution_count": null,
   "metadata": {},
   "outputs": [],
   "source": [
    "# create the fit instance\n",
    "fitter = CurveFitter(global_objective)\n",
    "\n",
    "res = fitter.fit('differential_evolution')"
   ]
  },
  {
   "cell_type": "code",
   "execution_count": null,
   "metadata": {},
   "outputs": [],
   "source": [
    "global_objective.plot()\n",
    "plt.legend()\n",
    "plt.xlabel('Q')\n",
    "plt.ylabel('logR');"
   ]
  },
  {
   "cell_type": "code",
   "execution_count": null,
   "metadata": {},
   "outputs": [],
   "source": [
    "print(global_objective)"
   ]
  },
  {
   "cell_type": "code",
   "execution_count": null,
   "metadata": {},
   "outputs": [],
   "source": [
    "fitter.sample(400, random_state=1)\n",
    "fitter.sampler.reset()\n",
    "res = fitter.sample(30, nthin=100, random_state=1)"
   ]
  },
  {
   "cell_type": "code",
   "execution_count": null,
   "metadata": {},
   "outputs": [],
   "source": [
    "global_objective.corner();"
   ]
  },
  {
   "cell_type": "code",
   "execution_count": null,
   "metadata": {},
   "outputs": [],
   "source": [
    "print(global_objective)"
   ]
  }
 ],
 "metadata": {
  "kernelspec": {
   "display_name": "Python 3",
   "language": "python",
   "name": "python3"
  },
  "language_info": {
   "codemirror_mode": {
    "name": "ipython",
    "version": 3
   },
   "file_extension": ".py",
   "mimetype": "text/x-python",
   "name": "python",
   "nbconvert_exporter": "python",
   "pygments_lexer": "ipython3",
   "version": "3.6.5"
  }
 },
 "nbformat": 4,
 "nbformat_minor": 1
}
