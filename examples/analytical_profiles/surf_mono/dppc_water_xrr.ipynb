{
 "cells": [
  {
   "cell_type": "markdown",
   "metadata": {},
   "source": [
    "# Analysis of DPPC X-ray Reflectometry Data\n",
    "\n",
    "This is an example notebook showing the use of the surf_monolayer class for the analysis of surface-active molecules, such as lipids. \n",
    "\n",
    "In this example, the lipid DPPC is studied at the air-water interface. This X-ray reflectivity data was measured at Diamond Light Source, and shared openly. \n",
    "\n",
    "The SurfMono class constrains the model based on the following relationship. \n",
    "\n",
    "$$1-\\phi_s = \\frac{SLD_td_tb_h}{SLD_hd_hb_t}$$\n",
    "\n",
    "where, $\\phi_s$ is the fractional solvent volume in the head layer, $t$ and $h$ indicate tail or head layer, and $SLD$, $d$, and $b$, identify the scattering length density, thickness and scattering length respectively.\n",
    "\n",
    "This example only shows one contrast however this same class is also capable of analysing multiple contrasts with the constraint that they all have the same underlying model (e.g. the surface excess should be the same)."
   ]
  },
  {
   "cell_type": "code",
   "execution_count": null,
   "metadata": {},
   "outputs": [],
   "source": [
    "# Standard libraries to import\n",
    "%matplotlib inline\n",
    "import numpy as np \n",
    "import matplotlib.pyplot as plt\n",
    "from matplotlib import rcParams, rc\n",
    "from scipy.stats import norm\n",
    "from IPython.display import Markdown as md\n",
    "import corner\n",
    "\n",
    "# The refnx library, and associated classes\n",
    "import refnx\n",
    "from refnx.reflect import ReflectModel, SLD\n",
    "from refnx.dataset import ReflectDataset\n",
    "from refnx.analysis import Transform, CurveFitter, Objective, process_chain\n",
    "\n",
    "# The SurfMono class to constain the monolayer model. \n",
    "from surfmono import SurfMono"
   ]
  },
  {
   "cell_type": "markdown",
   "metadata": {},
   "source": [
    "The DPPC monolayer model is built, the SurfMono class constrains the number density of the lipid heads and tails such that they are held constant throughout the fitting process. This allows the volume fraction of solvent in the head region to be greater than 0, but keeps the volume fraction of solvent in the tails as 0 throughout. "
   ]
  },
  {
   "cell_type": "code",
   "execution_count": null,
   "metadata": {
    "scrolled": false
   },
   "outputs": [],
   "source": [
    "# Reading dataset into refnx format\n",
    "dataset = ReflectDataset('dppc_water_xrr.dat')\n",
    "\n",
    "# area per molecule\n",
    "apm = 90\n",
    "\n",
    "# Scattering length of the lipid head group in Angstrom\n",
    "# (found from summing the electrons in the head group \n",
    "# and multiplying by the classical radius of an electron)\n",
    "head_sl = 4674e-6\n",
    "# volume of head group\n",
    "v_head = 319\n",
    "head_group_thickness = 12.5\n",
    "# Scattering length of the lipid tail group (Angstrom)\n",
    "tail_sl = 6897e-6\n",
    "# volume of tail group\n",
    "v_tail = 850\n",
    "tail_group_thickness = 11.6\n",
    "\n",
    "rough_head_tail = 3\n",
    "rough_air_heads = 3\n",
    "\n",
    "# reverse_monolayer = True says that the tail region is closest to the fronting\n",
    "# medium (air). If reverse_monolayer = False, then the headgroups are\n",
    "# closest to the fronting medium.\n",
    "surfmono = SurfMono(apm, head_sl, v_head, head_group_thickness,\n",
    "                    tail_sl, v_tail, tail_group_thickness, rough_head_tail,\n",
    "                    rough_air_heads, name='dppc', reverse_monolayer=True)\n",
    "\n",
    "# SLD's for fronting and backing medium\n",
    "air = SLD(0, 'air')\n",
    "water = SLD(9.45, 'h2o')\n",
    "\n",
    "structure_dppc = air(0, 0) | surfmono | water(0, 3)\n",
    "\n",
    "# the solvation of the membrane is controlled by the structure_dppc.solvent attribute\n",
    "# By default this is assumed to be the SLD of the backing medium, but you can use\n",
    "# any value you'd like.\n",
    "\n",
    "# specify which parameters you'd like to vary, and their bounds.\n",
    "surfmono.apm.setp(vary=True, bounds=(40, 300))\n",
    "surfmono.vm_tails.setp(vary=True, bounds=(10, 1200))\n",
    "surfmono.thickness_heads.setp(vary=True, bounds=(10, 18))\n",
    "surfmono.thickness_tails.setp(vary=True, bounds=(10, 18))\n",
    "surfmono.rough_preceding_mono.setp(vary=True, bounds=(1, 9))\n",
    "surfmono.rough_head_tail.setp(vary=True, bounds=(1, 8))\n",
    "\n",
    "# roughness of water - monolayer interface\n",
    "structure_dppc[-1].rough.setp(vary=True, bounds=(1, 8))\n",
    "\n",
    "model_dppc = ReflectModel(structure_dppc, name='dppc', dq=0)\n",
    "model_dppc.scale.setp(vary=True, bounds=(0.7, 1.3))\n",
    "# The background for held constant to a value determined from a previous fitting\n",
    "model_dppc.bkg.setp(3.52703e-10, vary=True, bounds=(1e-10, 5e-10))\n",
    "\n",
    "objective = Objective(model_dppc, dataset, use_weights=True, transform=Transform('logY'))\n",
    "# A differential evolution algorithm is used to obtain an best fit\n",
    "fitter = CurveFitter(objective)\n",
    "# # A seed is used to ensure reproduciblity\n",
    "res = fitter.fit('differential_evolution')"
   ]
  },
  {
   "cell_type": "code",
   "execution_count": null,
   "metadata": {},
   "outputs": [],
   "source": [
    "objective.plot()"
   ]
  },
  {
   "cell_type": "code",
   "execution_count": null,
   "metadata": {},
   "outputs": [],
   "source": [
    "plt.plot(*model_dppc.structure.sld_profile())"
   ]
  },
  {
   "cell_type": "markdown",
   "metadata": {},
   "source": [
    "This is where the Markov Chain Monte Carlo (MCMC) sampling begins. This allows the parameter probability density functions to be determined. "
   ]
  },
  {
   "cell_type": "code",
   "execution_count": null,
   "metadata": {},
   "outputs": [],
   "source": [
    "fitter.initialise('jitter')\n",
    "fitter.sample(1, nthin=200)\n",
    "fitter.sampler.reset()"
   ]
  },
  {
   "cell_type": "code",
   "execution_count": null,
   "metadata": {},
   "outputs": [],
   "source": [
    "# The collection is across 10*200 samples\n",
    "# The random_stateseed is to allow for reproducibility\n",
    "res = fitter.sample(30, nthin=50)"
   ]
  },
  {
   "cell_type": "markdown",
   "metadata": {},
   "source": [
    "The 1D probability density functions of each of the parameters is then ploted, and 2D pdfs are used to show the correlations that are present between the different parameters. "
   ]
  },
  {
   "cell_type": "code",
   "execution_count": null,
   "metadata": {},
   "outputs": [],
   "source": [
    "print(objective)"
   ]
  },
  {
   "cell_type": "code",
   "execution_count": null,
   "metadata": {},
   "outputs": [],
   "source": [
    "process_chain(objective, fitter.chain, nburn=5, nthin=2)\n",
    "\n",
    "for pvec in objective.pgen(ngen=50):\n",
    "    objective.setp(pvec)\n",
    "    calc = objective.generative() * dataset.x**4\n",
    "    plt.plot(dataset.x, calc, color='k', linewidth=1, alpha=0.05)\n",
    "data = dataset.y * dataset.x**4\n",
    "data_err = dataset.y_err * dataset.x**4\n",
    "plt.errorbar(dataset.x, data, yerr=data_err, linestyle='', marker='x', markersize=5, \n",
    "             markeredgecolor='k', markerfacecolor='none', ecolor='k')\n",
    "\n",
    "plt.ylabel('$Rq^4$/Å$^{-4}$')\n",
    "plt.yscale('log')\n",
    "plt.xlabel('$q$/Å$^{-1}$')\n",
    "plt.tight_layout()"
   ]
  },
  {
   "cell_type": "code",
   "execution_count": null,
   "metadata": {},
   "outputs": [],
   "source": [
    "process_chain(objective, fitter.chain, nburn=5, nthin=2)\n",
    "plt.plot(*structure_dppc.sld_profile(), color='b', linewidth=2)\n",
    "for pvec in objective.pgen(50):\n",
    "    objective.setp(pvec)\n",
    "    plt.plot(*structure_dppc.sld_profile(), color='k', linewidth=2, alpha=0.01)\n",
    "\n",
    "plt.xlabel('$z$/Å')\n",
    "plt.ylabel('SLD/$10^{-6}Å^{-2}$');"
   ]
  },
  {
   "cell_type": "code",
   "execution_count": null,
   "metadata": {
    "scrolled": false
   },
   "outputs": [],
   "source": [
    "corner.corner(fitter.chain.reshape(-1, len(objective.varying_parameters())),\n",
    "             labels=objective.varying_parameters().names());"
   ]
  }
 ],
 "metadata": {
  "kernelspec": {
   "display_name": "Python 3",
   "language": "python",
   "name": "python3"
  },
  "language_info": {
   "codemirror_mode": {
    "name": "ipython",
    "version": 3
   },
   "file_extension": ".py",
   "mimetype": "text/x-python",
   "name": "python",
   "nbconvert_exporter": "python",
   "pygments_lexer": "ipython3",
   "version": "3.6.4"
  }
 },
 "nbformat": 4,
 "nbformat_minor": 2
}
