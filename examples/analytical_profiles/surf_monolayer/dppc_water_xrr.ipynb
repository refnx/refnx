{
 "cells": [
  {
   "cell_type": "markdown",
   "metadata": {},
   "source": [
    "# Analysis of DPPC X-ray Reflectometry Data\n",
    "\n",
    "This is an example notebook showing the use of the surf_monolayer class for the analysis of surface-active molecules, such as lipids. \n",
    "\n",
    "In this example, the lipid DPPC is studied at the air-water interface. This X-ray reflectivity data was measured at Diamond Light Source, and shared openly. \n",
    "\n",
    "The SurfMono class constrains the model based on the following relationship. \n",
    "\n",
    "$$1-\\phi_s = \\frac{SLD_td_tb_h}{SLD_hd_hb_t}$$\n",
    "\n",
    "where, $\\phi_s$ is the fractional solvent volume in the head layer, $t$ and $h$ indicate tail or head layer, and $SLD$, $d$, and $b$, identify the scattering length density, thickness and scattering length respectively.\n",
    "\n",
    "This example only shows one contrast however this same class is also capable of analysing multiple contrasts with the constraint that they all have the same underlying model (e.g. the surface excess should be the same)."
   ]
  },
  {
   "cell_type": "code",
   "execution_count": null,
   "metadata": {
    "collapsed": true
   },
   "outputs": [],
   "source": [
    "# Standard libraries to import\n",
    "%matplotlib inline\n",
    "import numpy as np \n",
    "import matplotlib.pyplot as plt\n",
    "from matplotlib import rcParams, rc\n",
    "from __future__ import division\n",
    "from scipy.stats import pearsonr, norm\n",
    "from IPython.display import Markdown as md\n",
    "\n",
    "# The refnx library, and associated classes\n",
    "import refnx\n",
    "from refnx.reflect import structure, ReflectModel, Structure\n",
    "from refnx.dataset import ReflectDataset\n",
    "from refnx.analysis import Transform, CurveFitter, Objective\n",
    "\n",
    "# The SurfMono class to constain the monolayer model. \n",
    "import surf_monolayer as sm"
   ]
  },
  {
   "cell_type": "markdown",
   "metadata": {},
   "source": [
    "The DPPC monolayer model is built, the SurfMono class constrains the number density of the lipid heads and tails such that they are held constant throughout the fitting process. This allows the volume fraction of solvent in the head region to be greater than 0, but keeps the volume fraction of solvent in the tails as 0 throughout. "
   ]
  },
  {
   "cell_type": "code",
   "execution_count": null,
   "metadata": {
    "scrolled": false
   },
   "outputs": [],
   "source": [
    "# Reading dataset into refnx format\n",
    "dataset = ReflectDataset('dppc_water_xrr.dat')\n",
    "\n",
    "# Scattering length of the lipid head group \n",
    "# (found from summing the electrons in the head group \n",
    "# and multiplying by the classical radius of an electron)\n",
    "head_sl = [4674e-6]\n",
    "# Scattering length of the lipid tail group \n",
    "tail_sl = [6897e-6]\n",
    "# Solvent SLD\n",
    "solvent_sld = [9.45]\n",
    "# SLD of air \n",
    "super_sld = [0]\n",
    "# Some initial values for the head and tail thicknesses & APM\n",
    "initial_thicknesses = [12.5, 16.6]\n",
    "initial_apm = 69.\n",
    "\n",
    "# Calling the SurfMono class to initialise it\n",
    "dppc = sm.SurfMono(head_sl, tail_sl, solvent_sld, super_sld, \n",
    "                   initial_thicknesses, initial_apm, name='dppc')\n",
    "# Getting the structure from the SurfMono class\n",
    "dppc.get_structures()\n",
    "\n",
    "# Creating a ReflectModel class object, add setting an initial scale \n",
    "model_dppc = ReflectModel(dppc.structures['con0'])\n",
    "model_dppc.scale.setp(vary=True, bounds=(0.005, 10))\n",
    "# The background for held constant to a value determined from a previous fitting\n",
    "model_dppc.bkg.setp(3.52703e-10, vary=False)\n",
    "\n",
    "# The Objective object is created, and the data is transformed so that \n",
    "# the fitting is in rq4 space\n",
    "objective = Objective(model_dppc, dataset, transform=Transform('YX4'))\n",
    "# A differential evolution algorithm is used to obtain an best fit\n",
    "fitter = CurveFitter(objective)\n",
    "# A seed is used to ensure reproduciblity\n",
    "res = fitter.fit('differential_evolution')"
   ]
  },
  {
   "cell_type": "markdown",
   "metadata": {},
   "source": [
    "This is where the Markov Chain Monte Carlo (MCMC) sampling begins. This allows the parameter probability density functions to be determined. "
   ]
  },
  {
   "cell_type": "code",
   "execution_count": null,
   "metadata": {},
   "outputs": [],
   "source": [
    "# The first 200*200 samples are binned\n",
    "fitter.sample(200)\n",
    "fitter.sampler.reset()"
   ]
  },
  {
   "cell_type": "code",
   "execution_count": null,
   "metadata": {},
   "outputs": [],
   "source": [
    "# The collection is across 5000*200 samples\n",
    "# The random_state seed is to allow for reproducibility\n",
    "res = fitter.sample(500, nthin=1)"
   ]
  },
  {
   "cell_type": "markdown",
   "metadata": {},
   "source": [
    "The 1D probability density functions of each of the parameters is then ploted, and 2D pdfs are used to show the correlations that are present between the different parameters. "
   ]
  },
  {
   "cell_type": "code",
   "execution_count": null,
   "metadata": {},
   "outputs": [],
   "source": [
    "print(objective)"
   ]
  },
  {
   "cell_type": "code",
   "execution_count": null,
   "metadata": {},
   "outputs": [],
   "source": [
    "saved_params = np.array(objective.parameters)\n",
    "choose = objective.pgen(ngen=50)\n",
    "for pvec in choose:\n",
    "    objective.setp(pvec)\n",
    "    calc = model_dppc(dataset.x, x_err=dataset.x_err) * np.power(dataset.x, 4)\n",
    "    plt.plot(dataset.x, calc, color='k', linewidth=1, alpha=0.05)\n",
    "data = dataset.y * np.power(dataset.x, 4)\n",
    "data_err = dataset.y_err * np.power(dataset.x, 4)\n",
    "plt.errorbar(dataset.x, data, yerr=data_err, linestyle='', marker='x', markersize=5, \n",
    "             markeredgecolor='k', markerfacecolor='none', ecolor='k')\n",
    "plt.plot(dataset.x, model_dppc(dataset.x, x_err=dataset.x_err)*dataset.x**4, color='b', \n",
    "         linewidth=2)\n",
    "plt.ylabel('$Rq^4$/Å$^{-4}$')\n",
    "plt.yscale('log')\n",
    "plt.xlabel('$q$/Å$^{-1}$')\n",
    "plt.tight_layout()\n",
    "plt.show()"
   ]
  },
  {
   "cell_type": "code",
   "execution_count": null,
   "metadata": {},
   "outputs": [],
   "source": [
    "objective.setp(saved_params)\n",
    "z, true_sld = dppc.structures['con0'].sld_profile()\n",
    "for pvec in choose:\n",
    "    objective.setp(pvec)\n",
    "    zs, sld = dppc.structures['con'].sld_profile()\n",
    "    plt.plot(zs, sld, color='k', linewidth=1, alpha=0.05)\n",
    "plt.plot(z, true_sld, color='b', linewidth=2)\n",
    "plt.xlabel('$z$/Å')\n",
    "plt.ylabel('SLD/$10^{-6}Å^{-2}$')\n",
    "plt.show()"
   ]
  },
  {
   "cell_type": "code",
   "execution_count": null,
   "metadata": {
    "scrolled": false
   },
   "outputs": [],
   "source": [
    "import corner\n",
    "\n",
    "variables=['Scale', '$d_t$', '$SLD_t$', '$\\sigma_t$', '$d_h$', '$\\sigma_h$', '$\\phi_s$']\n",
    "\n",
    "fig = corner.corner(fitter.sampler.flatchain, labels=variables)\n",
    "fig.show()"
   ]
  },
  {
   "cell_type": "markdown",
   "metadata": {},
   "source": [
    "There is a clear correlation between the thickness of the head layer and the percentage solvent of this layer. As a result the SLD of the solvated head layer, SLD$_\\text{sh}$, as defined as follows:\n",
    "\n",
    "$$ \\text{SLD}_\\text{sh} = \\frac{\\text{SLD}_\\text{tl}\\text{t}_\\text{t}\\text{b}_\\text{h}}{\\text{t}_\\text{hl}\\text{b}_\\text{t}} + \\text{SLD}_\\text{s}\\phi_\\text{s}. $$\n",
    "\n",
    "The first task is to unpack the flatchain"
   ]
  },
  {
   "cell_type": "code",
   "execution_count": null,
   "metadata": {},
   "outputs": [],
   "source": [
    "# tail thickness\n",
    "d_t = fitter.sampler.flatchain[:,1]\n",
    "# tail sld\n",
    "sld_t = fitter.sampler.flatchain[:,2]\n",
    "# head thickness\n",
    "d_h = fitter.sampler.flatchain[:,4]\n",
    "# fractional solvation \n",
    "phi_s = fitter.sampler.flatchain[:,6]"
   ]
  },
  {
   "cell_type": "markdown",
   "metadata": {},
   "source": [
    "The SLD$_\\text{sh}$ can then be calculated."
   ]
  },
  {
   "cell_type": "code",
   "execution_count": null,
   "metadata": {
    "scrolled": false
   },
   "outputs": [],
   "source": [
    "# head-layer sld calculation\n",
    "sld_sh = (sld_t * d_t * head_sl[0] / (d_h * tail_sl[0])) + (10.8 * phi_s)\n",
    "\n",
    "# building the new chain to plot\n",
    "compare = np.zeros((len(fitter.sampler.flatchain), 4))\n",
    "compare[:,0] = sld_t\n",
    "compare[:,1] = d_t\n",
    "compare[:,2] = sld_sh\n",
    "compare[:,3] = d_h\n",
    "\n",
    "# plotting, showing and saving a high resolution version of the plot\n",
    "variables=['$SLD_t$', '$d_t$', '$SLD_{sh}$', '$d_h$']\n",
    "fig = corner.corner(compare, show_titles=False, labels=variables, bins=20)\n",
    "fig.show()"
   ]
  },
  {
   "cell_type": "markdown",
   "metadata": {},
   "source": [
    "The area per molecule (APM) can be determined from the SLD$_\\text{t}$ and t$_\\text{tl}$ by the following relationship:\n",
    "\n",
    "$$ \\text{APM} =  \\frac{\\text{b}_\\text{t}}{\\text{SLD}_\\text{t}\\text{t}_\\text{tl}}$$\n",
    "\n",
    "The APM can be found for each of the MCMC samples and therefore the probability density function found. \n",
    "\n",
    "The average and standard deviation are then found by fitting a Gaussian function to the pdf."
   ]
  },
  {
   "cell_type": "code",
   "execution_count": null,
   "metadata": {},
   "outputs": [],
   "source": [
    "# calculation of apm\n",
    "apm = tail_sl[0]/(sld_t*1e-6*d_t)\n",
    "\n",
    "# plotting of apm pdf\n",
    "plt.hist(apm, bins=20, histtype='step', color='black', lw=1, normed=True)\n",
    "plt.xlabel('APM/Å$\\mathregular{^{2}}$')\n",
    "plt.ylabel('prob(APM|{data},I)')\n",
    "plt.show()\n",
    "\n",
    "# fitting of a Gaussian to the pdf and printing the average and standard deviation of the APM\n",
    "mu_apm, sigma_apm = norm.fit(apm)\n",
    "md('APM = {:.3f}+/-{:.3f} Å$^2$'.format(mu_apm, sigma_apm))"
   ]
  },
  {
   "cell_type": "markdown",
   "metadata": {},
   "source": [
    "The volume of the head group (V$_\\text{h}$) can be determined from the following relationship:\n",
    "\n",
    "$$ \\text{V}_\\text{h} =  \\frac{\\text{t}_\\text{hl}\\text{b}_\\text{t}(1-\\phi_\\text{s})^2} {\\text{SLD}_\\text{t}\\text{t}_\\text{tl}}$$\n",
    "\n",
    "The V$_\\text{h}$ can be found for each of the MCMC samples and therefore the probability density function found. \n",
    "\n",
    "The average and standard deviation are then found by fitting a Gaussian function to the pdf."
   ]
  },
  {
   "cell_type": "code",
   "execution_count": null,
   "metadata": {},
   "outputs": [],
   "source": [
    "# Calculation of Vh\n",
    "vh = d_h*head_sl[0]*(1-phi_s)**2 / (sld_t*1e-6*d_t)\n",
    "\n",
    "# plotting of Vh pdf\n",
    "plt.hist(vh, bins=20, histtype='step', color='black', lw=1, normed=True)\n",
    "plt.xlabel('V$\\mathregular{_h}$/Å$\\mathregular{^{3}}$')\n",
    "plt.ylabel('prob(V$\\mathregular{_h}$|{data},I)')\n",
    "plt.show()\n",
    "\n",
    "# fitting of a Gaussian to the pdf and printing the average and standard deviation of the Vh\n",
    "mu_vh, sigma_vh = norm.fit(vh)\n",
    "md('$V_h$ = {:.1f}+/-{:.1f} Å$^3$'.format(mu_vh, sigma_vh))"
   ]
  },
  {
   "cell_type": "markdown",
   "metadata": {},
   "source": [
    "The volume of the tail group (V$_\\text{t}$) can be determined from the following relationship:\n",
    "\n",
    "$$ \\text{V}_\\text{t} =  \\frac{\\text{b}_\\text{t}}{\\text{SLD}_\\text{t}}$$\n",
    "\n",
    "The V$_\\text{t}$ can be found for each of the MCMC samples and therefore the probability density function found. \n",
    "\n",
    "The average and standard deviation are then found by fitting a Gaussian function to the pdf."
   ]
  },
  {
   "cell_type": "code",
   "execution_count": null,
   "metadata": {},
   "outputs": [],
   "source": [
    "# calculation of Vt\n",
    "vt = tail_sl[0]/(sld_t*1e-6)\n",
    "\n",
    "# plotting of Vt pdf\n",
    "plt.hist(vt, bins=20, histtype='step', color='black', lw=1, normed=True)\n",
    "plt.xlabel('V$\\mathregular{_t}$/Å$\\mathregular{^{3}}$')\n",
    "plt.ylabel('prob(V$\\mathregular{_t}$|{data},I)')\n",
    "plt.show()\n",
    "\n",
    "# fitting of a Gaussian to the pdf and printing the average and standard deviation of the Vt\n",
    "mu_vt, sigma_vt = norm.fit(vt)\n",
    "md('$V_t$ = {:.1f}+/-{:.1f} Å$^3$'.format(mu_vt, sigma_vt))"
   ]
  },
  {
   "cell_type": "markdown",
   "metadata": {},
   "source": [
    "Finally, the volume of whole lipid (V$_\\text{l}$) can be determined as the sum  of the head and tail volumes. \n",
    "\n",
    "The V$_\\text{l}$ can be found for each of the MCMC samples and therefore the probability density function found. \n",
    "\n",
    "The average and standard deviation are then found by fitting a Gaussian function to the pdf."
   ]
  },
  {
   "cell_type": "code",
   "execution_count": null,
   "metadata": {},
   "outputs": [],
   "source": [
    "# calculation of Vl\n",
    "vl = vt + vh\n",
    "\n",
    "# plotting to Vl pdf\n",
    "plt.hist(vl, bins=20, histtype='step', color='black', lw=1, normed=True)\n",
    "plt.xlabel('V$\\mathregular{_l}$/Å$\\mathregular{^{3}}$')\n",
    "plt.ylabel('prob(V$\\mathregular{_l}$|{data},I)')\n",
    "plt.show()\n",
    "\n",
    "# fitting of a Gaussian to the pdf and printing the average and standard deviation of the Vl\n",
    "mu_vl, sigma_vl = norm.fit(vl)\n",
    "md('$V_l$ = {:.1f}+/-{:.1f} Å$^3$'.format(mu_vl, sigma_vl))"
   ]
  },
  {
   "cell_type": "code",
   "execution_count": null,
   "metadata": {
    "collapsed": true
   },
   "outputs": [],
   "source": []
  },
  {
   "cell_type": "code",
   "execution_count": null,
   "metadata": {
    "collapsed": true
   },
   "outputs": [],
   "source": []
  }
 ],
 "metadata": {
  "kernelspec": {
   "display_name": "Python 3",
   "language": "python",
   "name": "python3"
  },
  "language_info": {
   "codemirror_mode": {
    "name": "ipython",
    "version": 3
   },
   "file_extension": ".py",
   "mimetype": "text/x-python",
   "name": "python",
   "nbconvert_exporter": "python",
   "pygments_lexer": "ipython3",
   "version": "3.6.2"
  }
 },
 "nbformat": 4,
 "nbformat_minor": 2
}
